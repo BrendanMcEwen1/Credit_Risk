{
 "cells": [
  {
   "cell_type": "markdown",
   "metadata": {},
   "source": [
    "# Credit Risk Modeling \n",
    "\n",
    "In this notebook I will be using a dataset on borrower information and loan status to examine factors that contribute to loan risk and probability of default. I will build Logistic Regression, Random Forest, and XGBoost models then compare their accuracy in predicting default outcomes. "
   ]
  },
  {
   "cell_type": "markdown",
   "metadata": {},
   "source": [
    "## Summary\n",
    "\n",
    "Highest Accuracy: XGBoost (~94% accuracy)\n",
    "- Highest Feature Importance: `person_home_ownership = RENT`\n",
    "\n",
    "Second Highest Accuracy: Random Forest (~93% accuracy)\n",
    "- Highest Feature Importance: `percent_loan_income`\n",
    "\n",
    "Third Highest Accuracy: Logistic Regression (~86% accuracy)\n",
    "- Highest Feature Importance: `loan_grade`"
   ]
  },
  {
   "cell_type": "markdown",
   "metadata": {},
   "source": [
    "## Setup"
   ]
  },
  {
   "cell_type": "code",
   "execution_count": 97,
   "metadata": {},
   "outputs": [
    {
     "data": {
      "text/html": [
       "<div>\n",
       "<style scoped>\n",
       "    .dataframe tbody tr th:only-of-type {\n",
       "        vertical-align: middle;\n",
       "    }\n",
       "\n",
       "    .dataframe tbody tr th {\n",
       "        vertical-align: top;\n",
       "    }\n",
       "\n",
       "    .dataframe thead th {\n",
       "        text-align: right;\n",
       "    }\n",
       "</style>\n",
       "<table border=\"1\" class=\"dataframe\">\n",
       "  <thead>\n",
       "    <tr style=\"text-align: right;\">\n",
       "      <th></th>\n",
       "      <th>person_age</th>\n",
       "      <th>person_income</th>\n",
       "      <th>person_home_ownership</th>\n",
       "      <th>person_emp_length</th>\n",
       "      <th>loan_intent</th>\n",
       "      <th>loan_grade</th>\n",
       "      <th>loan_amnt</th>\n",
       "      <th>loan_int_rate</th>\n",
       "      <th>loan_status</th>\n",
       "      <th>loan_percent_income</th>\n",
       "      <th>cb_person_default_on_file</th>\n",
       "      <th>cb_person_cred_hist_length</th>\n",
       "    </tr>\n",
       "  </thead>\n",
       "  <tbody>\n",
       "    <tr>\n",
       "      <th>0</th>\n",
       "      <td>22</td>\n",
       "      <td>59000</td>\n",
       "      <td>RENT</td>\n",
       "      <td>123.0</td>\n",
       "      <td>PERSONAL</td>\n",
       "      <td>D</td>\n",
       "      <td>35000</td>\n",
       "      <td>16.02</td>\n",
       "      <td>1</td>\n",
       "      <td>0.59</td>\n",
       "      <td>Y</td>\n",
       "      <td>3</td>\n",
       "    </tr>\n",
       "    <tr>\n",
       "      <th>1</th>\n",
       "      <td>21</td>\n",
       "      <td>9600</td>\n",
       "      <td>OWN</td>\n",
       "      <td>5.0</td>\n",
       "      <td>EDUCATION</td>\n",
       "      <td>B</td>\n",
       "      <td>1000</td>\n",
       "      <td>11.14</td>\n",
       "      <td>0</td>\n",
       "      <td>0.10</td>\n",
       "      <td>N</td>\n",
       "      <td>2</td>\n",
       "    </tr>\n",
       "    <tr>\n",
       "      <th>2</th>\n",
       "      <td>25</td>\n",
       "      <td>9600</td>\n",
       "      <td>MORTGAGE</td>\n",
       "      <td>1.0</td>\n",
       "      <td>MEDICAL</td>\n",
       "      <td>C</td>\n",
       "      <td>5500</td>\n",
       "      <td>12.87</td>\n",
       "      <td>1</td>\n",
       "      <td>0.57</td>\n",
       "      <td>N</td>\n",
       "      <td>3</td>\n",
       "    </tr>\n",
       "    <tr>\n",
       "      <th>3</th>\n",
       "      <td>23</td>\n",
       "      <td>65500</td>\n",
       "      <td>RENT</td>\n",
       "      <td>4.0</td>\n",
       "      <td>MEDICAL</td>\n",
       "      <td>C</td>\n",
       "      <td>35000</td>\n",
       "      <td>15.23</td>\n",
       "      <td>1</td>\n",
       "      <td>0.53</td>\n",
       "      <td>N</td>\n",
       "      <td>2</td>\n",
       "    </tr>\n",
       "    <tr>\n",
       "      <th>4</th>\n",
       "      <td>24</td>\n",
       "      <td>54400</td>\n",
       "      <td>RENT</td>\n",
       "      <td>8.0</td>\n",
       "      <td>MEDICAL</td>\n",
       "      <td>C</td>\n",
       "      <td>35000</td>\n",
       "      <td>14.27</td>\n",
       "      <td>1</td>\n",
       "      <td>0.55</td>\n",
       "      <td>Y</td>\n",
       "      <td>4</td>\n",
       "    </tr>\n",
       "  </tbody>\n",
       "</table>\n",
       "</div>"
      ],
      "text/plain": [
       "   person_age  person_income person_home_ownership  person_emp_length  \\\n",
       "0          22          59000                  RENT              123.0   \n",
       "1          21           9600                   OWN                5.0   \n",
       "2          25           9600              MORTGAGE                1.0   \n",
       "3          23          65500                  RENT                4.0   \n",
       "4          24          54400                  RENT                8.0   \n",
       "\n",
       "  loan_intent loan_grade  loan_amnt  loan_int_rate  loan_status  \\\n",
       "0    PERSONAL          D      35000          16.02            1   \n",
       "1   EDUCATION          B       1000          11.14            0   \n",
       "2     MEDICAL          C       5500          12.87            1   \n",
       "3     MEDICAL          C      35000          15.23            1   \n",
       "4     MEDICAL          C      35000          14.27            1   \n",
       "\n",
       "   loan_percent_income cb_person_default_on_file  cb_person_cred_hist_length  \n",
       "0                 0.59                         Y                           3  \n",
       "1                 0.10                         N                           2  \n",
       "2                 0.57                         N                           3  \n",
       "3                 0.53                         N                           2  \n",
       "4                 0.55                         Y                           4  "
      ]
     },
     "execution_count": 97,
     "metadata": {},
     "output_type": "execute_result"
    }
   ],
   "source": [
    "import pandas as pd\n",
    "import numpy as np\n",
    "import seaborn as sns\n",
    "import matplotlib.pyplot as plt\n",
    "import os\n",
    "import statsmodels.api as sm\n",
    "from sklearn.model_selection import train_test_split\n",
    "from sklearn.impute import SimpleImputer \n",
    "from sklearn.preprocessing import StandardScaler\n",
    "\n",
    "####\n",
    "\n",
    "os.chdir(r\"C:\\Users\\Brendan\\OneDrive - McMaster University\\Documents\\Professional\\Projects\\Credit_Risk\")\n",
    "df = pd.read_csv(\"credit_risk_dataset.csv\")\n",
    "df.head()\n"
   ]
  },
  {
   "cell_type": "markdown",
   "metadata": {},
   "source": [
    "## Data Exploration"
   ]
  },
  {
   "cell_type": "markdown",
   "metadata": {},
   "source": [
    "First we'll look at the overall dimensions of the dataframe"
   ]
  },
  {
   "cell_type": "code",
   "execution_count": 98,
   "metadata": {},
   "outputs": [
    {
     "data": {
      "text/plain": [
       "(32581, 12)"
      ]
     },
     "execution_count": 98,
     "metadata": {},
     "output_type": "execute_result"
    }
   ],
   "source": [
    "df.shape "
   ]
  },
  {
   "cell_type": "markdown",
   "metadata": {},
   "source": [
    "So about 32k observations of 12 features. For machine learning applications we need to preprocess numeric vs categorical features differently. Let's check out our numeric data:"
   ]
  },
  {
   "cell_type": "code",
   "execution_count": null,
   "metadata": {},
   "outputs": [
    {
     "data": {
      "text/html": [
       "<div>\n",
       "<style scoped>\n",
       "    .dataframe tbody tr th:only-of-type {\n",
       "        vertical-align: middle;\n",
       "    }\n",
       "\n",
       "    .dataframe tbody tr th {\n",
       "        vertical-align: top;\n",
       "    }\n",
       "\n",
       "    .dataframe thead th {\n",
       "        text-align: right;\n",
       "    }\n",
       "</style>\n",
       "<table border=\"1\" class=\"dataframe\">\n",
       "  <thead>\n",
       "    <tr style=\"text-align: right;\">\n",
       "      <th></th>\n",
       "      <th>person_age</th>\n",
       "      <th>person_income</th>\n",
       "      <th>person_emp_length</th>\n",
       "      <th>loan_amnt</th>\n",
       "      <th>loan_int_rate</th>\n",
       "      <th>loan_status</th>\n",
       "      <th>loan_percent_income</th>\n",
       "      <th>cb_person_cred_hist_length</th>\n",
       "    </tr>\n",
       "  </thead>\n",
       "  <tbody>\n",
       "    <tr>\n",
       "      <th>count</th>\n",
       "      <td>32581.000000</td>\n",
       "      <td>3.258100e+04</td>\n",
       "      <td>31686.000000</td>\n",
       "      <td>32581.000000</td>\n",
       "      <td>29465.000000</td>\n",
       "      <td>32581.000000</td>\n",
       "      <td>32581.000000</td>\n",
       "      <td>32581.000000</td>\n",
       "    </tr>\n",
       "    <tr>\n",
       "      <th>mean</th>\n",
       "      <td>27.734600</td>\n",
       "      <td>6.607485e+04</td>\n",
       "      <td>4.789686</td>\n",
       "      <td>9589.371106</td>\n",
       "      <td>11.011695</td>\n",
       "      <td>0.218164</td>\n",
       "      <td>0.170203</td>\n",
       "      <td>5.804211</td>\n",
       "    </tr>\n",
       "    <tr>\n",
       "      <th>std</th>\n",
       "      <td>6.348078</td>\n",
       "      <td>6.198312e+04</td>\n",
       "      <td>4.142630</td>\n",
       "      <td>6322.086646</td>\n",
       "      <td>3.240459</td>\n",
       "      <td>0.413006</td>\n",
       "      <td>0.106782</td>\n",
       "      <td>4.055001</td>\n",
       "    </tr>\n",
       "    <tr>\n",
       "      <th>min</th>\n",
       "      <td>20.000000</td>\n",
       "      <td>4.000000e+03</td>\n",
       "      <td>0.000000</td>\n",
       "      <td>500.000000</td>\n",
       "      <td>5.420000</td>\n",
       "      <td>0.000000</td>\n",
       "      <td>0.000000</td>\n",
       "      <td>2.000000</td>\n",
       "    </tr>\n",
       "    <tr>\n",
       "      <th>25%</th>\n",
       "      <td>23.000000</td>\n",
       "      <td>3.850000e+04</td>\n",
       "      <td>2.000000</td>\n",
       "      <td>5000.000000</td>\n",
       "      <td>7.900000</td>\n",
       "      <td>0.000000</td>\n",
       "      <td>0.090000</td>\n",
       "      <td>3.000000</td>\n",
       "    </tr>\n",
       "    <tr>\n",
       "      <th>50%</th>\n",
       "      <td>26.000000</td>\n",
       "      <td>5.500000e+04</td>\n",
       "      <td>4.000000</td>\n",
       "      <td>8000.000000</td>\n",
       "      <td>10.990000</td>\n",
       "      <td>0.000000</td>\n",
       "      <td>0.150000</td>\n",
       "      <td>4.000000</td>\n",
       "    </tr>\n",
       "    <tr>\n",
       "      <th>75%</th>\n",
       "      <td>30.000000</td>\n",
       "      <td>7.920000e+04</td>\n",
       "      <td>7.000000</td>\n",
       "      <td>12200.000000</td>\n",
       "      <td>13.470000</td>\n",
       "      <td>0.000000</td>\n",
       "      <td>0.230000</td>\n",
       "      <td>8.000000</td>\n",
       "    </tr>\n",
       "    <tr>\n",
       "      <th>max</th>\n",
       "      <td>144.000000</td>\n",
       "      <td>6.000000e+06</td>\n",
       "      <td>123.000000</td>\n",
       "      <td>35000.000000</td>\n",
       "      <td>23.220000</td>\n",
       "      <td>1.000000</td>\n",
       "      <td>0.830000</td>\n",
       "      <td>30.000000</td>\n",
       "    </tr>\n",
       "  </tbody>\n",
       "</table>\n",
       "</div>"
      ],
      "text/plain": [
       "         person_age  person_income  person_emp_length     loan_amnt  \\\n",
       "count  32581.000000   3.258100e+04       31686.000000  32581.000000   \n",
       "mean      27.734600   6.607485e+04           4.789686   9589.371106   \n",
       "std        6.348078   6.198312e+04           4.142630   6322.086646   \n",
       "min       20.000000   4.000000e+03           0.000000    500.000000   \n",
       "25%       23.000000   3.850000e+04           2.000000   5000.000000   \n",
       "50%       26.000000   5.500000e+04           4.000000   8000.000000   \n",
       "75%       30.000000   7.920000e+04           7.000000  12200.000000   \n",
       "max      144.000000   6.000000e+06         123.000000  35000.000000   \n",
       "\n",
       "       loan_int_rate   loan_status  loan_percent_income  \\\n",
       "count   29465.000000  32581.000000         32581.000000   \n",
       "mean       11.011695      0.218164             0.170203   \n",
       "std         3.240459      0.413006             0.106782   \n",
       "min         5.420000      0.000000             0.000000   \n",
       "25%         7.900000      0.000000             0.090000   \n",
       "50%        10.990000      0.000000             0.150000   \n",
       "75%        13.470000      0.000000             0.230000   \n",
       "max        23.220000      1.000000             0.830000   \n",
       "\n",
       "       cb_person_cred_hist_length  \n",
       "count                32581.000000  \n",
       "mean                     5.804211  \n",
       "std                      4.055001  \n",
       "min                      2.000000  \n",
       "25%                      3.000000  \n",
       "50%                      4.000000  \n",
       "75%                      8.000000  \n",
       "max                     30.000000  "
      ]
     },
     "execution_count": 99,
     "metadata": {},
     "output_type": "execute_result"
    }
   ],
   "source": [
    "df.describe()"
   ]
  },
  {
   "cell_type": "markdown",
   "metadata": {},
   "source": [
    "One thing I notice is that there are some probable outliers in the data. Age = 144 years old, employment length = 123 years, income = 6,000,000 are the most eyebrow-raising ones.\n",
    "\n",
    "For now let's just visualize the distributions of all of the numerical data:"
   ]
  },
  {
   "cell_type": "code",
   "execution_count": 100,
   "metadata": {},
   "outputs": [
    {
     "data": {
      "image/png": "[encoded data removed]",
      "text/plain": [
       "<Figure size 1200x800 with 9 Axes>"
      ]
     },
     "metadata": {},
     "output_type": "display_data"
    }
   ],
   "source": [
    "numeric_cols = df.describe().columns\n",
    "\n",
    "# Some histograms:\n",
    "df[numeric_cols].hist(figsize=(12,8), bins=20, edgecolor=\"black\") \n",
    "plt.tight_layout() \n",
    "plt.show() "
   ]
  },
  {
   "cell_type": "markdown",
   "metadata": {},
   "source": [
    "We have some strong visual skew of age, income, and employment length. Loan percent income and credit history length are also skewed but seem a bit more natural\n",
    "\n",
    "Let's make a copy of the dataset to modify, so that we can have df remain unchanged:"
   ]
  },
  {
   "cell_type": "code",
   "execution_count": 101,
   "metadata": {},
   "outputs": [],
   "source": [
    "dat = df.copy() "
   ]
  },
  {
   "cell_type": "markdown",
   "metadata": {},
   "source": [
    "First thing we want to do is to delete the age outliers. We already know we have someone who's 144 years old, let's see if there are any other super old indivs:"
   ]
  },
  {
   "cell_type": "code",
   "execution_count": 102,
   "metadata": {},
   "outputs": [
    {
     "name": "stdout",
     "output_type": "stream",
     "text": [
      "    Age  Count\n",
      "0    20     15\n",
      "1    21   1229\n",
      "2    22   3633\n",
      "3    23   3889\n",
      "4    24   3549\n",
      "5    25   3037\n",
      "6    26   2477\n",
      "7    27   2138\n",
      "8    28   1854\n",
      "9    29   1687\n",
      "10   30   1316\n",
      "11   31   1142\n",
      "12   32    964\n",
      "13   33    856\n",
      "14   34    709\n",
      "15   35    620\n",
      "16   36    548\n",
      "17   37    478\n",
      "18   38    373\n",
      "19   39    302\n",
      "20   40    271\n",
      "21   41    241\n",
      "22   42    188\n",
      "23   43    164\n",
      "24   44    141\n",
      "25   45    108\n",
      "26   46     94\n",
      "27   47     94\n",
      "28   48     75\n",
      "29   49     49\n",
      "30   50     52\n",
      "31   51     39\n",
      "32   52     36\n",
      "33   53     30\n",
      "34   54     24\n",
      "35   55     20\n",
      "36   56     15\n",
      "37   57     15\n",
      "38   58     19\n",
      "39   59      5\n",
      "40   60     15\n",
      "41   61      9\n",
      "42   62      7\n",
      "43   63      3\n",
      "44   64      7\n",
      "45   65      9\n",
      "46   66      9\n",
      "47   67      1\n",
      "48   69      5\n",
      "49   70      7\n",
      "50   73      3\n",
      "51   76      1\n",
      "52   78      1\n",
      "53   80      1\n",
      "54   84      1\n",
      "55   94      1\n",
      "56  123      2\n",
      "57  144      3\n"
     ]
    }
   ],
   "source": [
    "age_table = dat.groupby(\"person_age\").size().reset_index(name=\"Count\")\n",
    "age_table.columns = [\"Age\", \"Count\"]\n",
    "print(age_table)\n"
   ]
  },
  {
   "cell_type": "markdown",
   "metadata": {},
   "source": [
    "Another way to do this is to do a pivot table, using the age as an index and counting the number of values in a different column, i.e. loan percent of income. \n",
    "<br>\n",
    "<br>\n",
    "Note that pivot_table only counts instances where the value for the column is not null, so if we have missing values in the column we're counting, they won't be included in the count and we would get different results than if we used the groupby method above."
   ]
  },
  {
   "cell_type": "code",
   "execution_count": 103,
   "metadata": {},
   "outputs": [
    {
     "data": {
      "text/html": [
       "<div>\n",
       "<style scoped>\n",
       "    .dataframe tbody tr th:only-of-type {\n",
       "        vertical-align: middle;\n",
       "    }\n",
       "\n",
       "    .dataframe tbody tr th {\n",
       "        vertical-align: top;\n",
       "    }\n",
       "\n",
       "    .dataframe thead th {\n",
       "        text-align: right;\n",
       "    }\n",
       "</style>\n",
       "<table border=\"1\" class=\"dataframe\">\n",
       "  <thead>\n",
       "    <tr style=\"text-align: right;\">\n",
       "      <th></th>\n",
       "      <th>loan_percent_income</th>\n",
       "    </tr>\n",
       "    <tr>\n",
       "      <th>person_age</th>\n",
       "      <th></th>\n",
       "    </tr>\n",
       "  </thead>\n",
       "  <tbody>\n",
       "    <tr>\n",
       "      <th>20</th>\n",
       "      <td>15</td>\n",
       "    </tr>\n",
       "    <tr>\n",
       "      <th>21</th>\n",
       "      <td>1229</td>\n",
       "    </tr>\n",
       "    <tr>\n",
       "      <th>22</th>\n",
       "      <td>3633</td>\n",
       "    </tr>\n",
       "    <tr>\n",
       "      <th>23</th>\n",
       "      <td>3889</td>\n",
       "    </tr>\n",
       "    <tr>\n",
       "      <th>24</th>\n",
       "      <td>3549</td>\n",
       "    </tr>\n",
       "    <tr>\n",
       "      <th>25</th>\n",
       "      <td>3037</td>\n",
       "    </tr>\n",
       "    <tr>\n",
       "      <th>26</th>\n",
       "      <td>2477</td>\n",
       "    </tr>\n",
       "    <tr>\n",
       "      <th>27</th>\n",
       "      <td>2138</td>\n",
       "    </tr>\n",
       "    <tr>\n",
       "      <th>28</th>\n",
       "      <td>1854</td>\n",
       "    </tr>\n",
       "    <tr>\n",
       "      <th>29</th>\n",
       "      <td>1687</td>\n",
       "    </tr>\n",
       "    <tr>\n",
       "      <th>30</th>\n",
       "      <td>1316</td>\n",
       "    </tr>\n",
       "    <tr>\n",
       "      <th>31</th>\n",
       "      <td>1142</td>\n",
       "    </tr>\n",
       "    <tr>\n",
       "      <th>32</th>\n",
       "      <td>964</td>\n",
       "    </tr>\n",
       "    <tr>\n",
       "      <th>33</th>\n",
       "      <td>856</td>\n",
       "    </tr>\n",
       "    <tr>\n",
       "      <th>34</th>\n",
       "      <td>709</td>\n",
       "    </tr>\n",
       "    <tr>\n",
       "      <th>35</th>\n",
       "      <td>620</td>\n",
       "    </tr>\n",
       "    <tr>\n",
       "      <th>36</th>\n",
       "      <td>548</td>\n",
       "    </tr>\n",
       "    <tr>\n",
       "      <th>37</th>\n",
       "      <td>478</td>\n",
       "    </tr>\n",
       "    <tr>\n",
       "      <th>38</th>\n",
       "      <td>373</td>\n",
       "    </tr>\n",
       "    <tr>\n",
       "      <th>39</th>\n",
       "      <td>302</td>\n",
       "    </tr>\n",
       "    <tr>\n",
       "      <th>40</th>\n",
       "      <td>271</td>\n",
       "    </tr>\n",
       "    <tr>\n",
       "      <th>41</th>\n",
       "      <td>241</td>\n",
       "    </tr>\n",
       "    <tr>\n",
       "      <th>42</th>\n",
       "      <td>188</td>\n",
       "    </tr>\n",
       "    <tr>\n",
       "      <th>43</th>\n",
       "      <td>164</td>\n",
       "    </tr>\n",
       "    <tr>\n",
       "      <th>44</th>\n",
       "      <td>141</td>\n",
       "    </tr>\n",
       "    <tr>\n",
       "      <th>45</th>\n",
       "      <td>108</td>\n",
       "    </tr>\n",
       "    <tr>\n",
       "      <th>46</th>\n",
       "      <td>94</td>\n",
       "    </tr>\n",
       "    <tr>\n",
       "      <th>47</th>\n",
       "      <td>94</td>\n",
       "    </tr>\n",
       "    <tr>\n",
       "      <th>48</th>\n",
       "      <td>75</td>\n",
       "    </tr>\n",
       "    <tr>\n",
       "      <th>49</th>\n",
       "      <td>49</td>\n",
       "    </tr>\n",
       "    <tr>\n",
       "      <th>50</th>\n",
       "      <td>52</td>\n",
       "    </tr>\n",
       "    <tr>\n",
       "      <th>51</th>\n",
       "      <td>39</td>\n",
       "    </tr>\n",
       "    <tr>\n",
       "      <th>52</th>\n",
       "      <td>36</td>\n",
       "    </tr>\n",
       "    <tr>\n",
       "      <th>53</th>\n",
       "      <td>30</td>\n",
       "    </tr>\n",
       "    <tr>\n",
       "      <th>54</th>\n",
       "      <td>24</td>\n",
       "    </tr>\n",
       "    <tr>\n",
       "      <th>55</th>\n",
       "      <td>20</td>\n",
       "    </tr>\n",
       "    <tr>\n",
       "      <th>56</th>\n",
       "      <td>15</td>\n",
       "    </tr>\n",
       "    <tr>\n",
       "      <th>57</th>\n",
       "      <td>15</td>\n",
       "    </tr>\n",
       "    <tr>\n",
       "      <th>58</th>\n",
       "      <td>19</td>\n",
       "    </tr>\n",
       "    <tr>\n",
       "      <th>59</th>\n",
       "      <td>5</td>\n",
       "    </tr>\n",
       "    <tr>\n",
       "      <th>60</th>\n",
       "      <td>15</td>\n",
       "    </tr>\n",
       "    <tr>\n",
       "      <th>61</th>\n",
       "      <td>9</td>\n",
       "    </tr>\n",
       "    <tr>\n",
       "      <th>62</th>\n",
       "      <td>7</td>\n",
       "    </tr>\n",
       "    <tr>\n",
       "      <th>63</th>\n",
       "      <td>3</td>\n",
       "    </tr>\n",
       "    <tr>\n",
       "      <th>64</th>\n",
       "      <td>7</td>\n",
       "    </tr>\n",
       "    <tr>\n",
       "      <th>65</th>\n",
       "      <td>9</td>\n",
       "    </tr>\n",
       "    <tr>\n",
       "      <th>66</th>\n",
       "      <td>9</td>\n",
       "    </tr>\n",
       "    <tr>\n",
       "      <th>67</th>\n",
       "      <td>1</td>\n",
       "    </tr>\n",
       "    <tr>\n",
       "      <th>69</th>\n",
       "      <td>5</td>\n",
       "    </tr>\n",
       "    <tr>\n",
       "      <th>70</th>\n",
       "      <td>7</td>\n",
       "    </tr>\n",
       "    <tr>\n",
       "      <th>73</th>\n",
       "      <td>3</td>\n",
       "    </tr>\n",
       "    <tr>\n",
       "      <th>76</th>\n",
       "      <td>1</td>\n",
       "    </tr>\n",
       "    <tr>\n",
       "      <th>78</th>\n",
       "      <td>1</td>\n",
       "    </tr>\n",
       "    <tr>\n",
       "      <th>80</th>\n",
       "      <td>1</td>\n",
       "    </tr>\n",
       "    <tr>\n",
       "      <th>84</th>\n",
       "      <td>1</td>\n",
       "    </tr>\n",
       "    <tr>\n",
       "      <th>94</th>\n",
       "      <td>1</td>\n",
       "    </tr>\n",
       "    <tr>\n",
       "      <th>123</th>\n",
       "      <td>2</td>\n",
       "    </tr>\n",
       "    <tr>\n",
       "      <th>144</th>\n",
       "      <td>3</td>\n",
       "    </tr>\n",
       "  </tbody>\n",
       "</table>\n",
       "</div>"
      ],
      "text/plain": [
       "            loan_percent_income\n",
       "person_age                     \n",
       "20                           15\n",
       "21                         1229\n",
       "22                         3633\n",
       "23                         3889\n",
       "24                         3549\n",
       "25                         3037\n",
       "26                         2477\n",
       "27                         2138\n",
       "28                         1854\n",
       "29                         1687\n",
       "30                         1316\n",
       "31                         1142\n",
       "32                          964\n",
       "33                          856\n",
       "34                          709\n",
       "35                          620\n",
       "36                          548\n",
       "37                          478\n",
       "38                          373\n",
       "39                          302\n",
       "40                          271\n",
       "41                          241\n",
       "42                          188\n",
       "43                          164\n",
       "44                          141\n",
       "45                          108\n",
       "46                           94\n",
       "47                           94\n",
       "48                           75\n",
       "49                           49\n",
       "50                           52\n",
       "51                           39\n",
       "52                           36\n",
       "53                           30\n",
       "54                           24\n",
       "55                           20\n",
       "56                           15\n",
       "57                           15\n",
       "58                           19\n",
       "59                            5\n",
       "60                           15\n",
       "61                            9\n",
       "62                            7\n",
       "63                            3\n",
       "64                            7\n",
       "65                            9\n",
       "66                            9\n",
       "67                            1\n",
       "69                            5\n",
       "70                            7\n",
       "73                            3\n",
       "76                            1\n",
       "78                            1\n",
       "80                            1\n",
       "84                            1\n",
       "94                            1\n",
       "123                           2\n",
       "144                           3"
      ]
     },
     "execution_count": 103,
     "metadata": {},
     "output_type": "execute_result"
    }
   ],
   "source": [
    "dat.pivot_table(index=\"person_age\", values=\"loan_percent_income\", aggfunc=\"count\")"
   ]
  },
  {
   "cell_type": "markdown",
   "metadata": {},
   "source": [
    "Okay so we can see that we have actually a handful of high ages, 2 of which are 123 and 2 of which are 144 years old. Let's cut out everyone older than 70 years old:"
   ]
  },
  {
   "cell_type": "code",
   "execution_count": 104,
   "metadata": {},
   "outputs": [
    {
     "data": {
      "text/plain": [
       "(32568, 12)"
      ]
     },
     "execution_count": 104,
     "metadata": {},
     "output_type": "execute_result"
    }
   ],
   "source": [
    "\n",
    "dat_agefilter = dat[dat[\"person_age\"] <= 70]\n",
    "dat_agefilter.shape # removed 20 rows"
   ]
  },
  {
   "cell_type": "markdown",
   "metadata": {},
   "source": [
    "Now let's make a table seeing how many people have how many years of employment length. Let's also check their loan status aggregates while we're at it\n",
    "<br>\n",
    "<br>\n",
    "Let's put these in descending order of years of employment, because we remember seeing someone employed for 123 years which we want to check out"
   ]
  },
  {
   "cell_type": "code",
   "execution_count": 105,
   "metadata": {},
   "outputs": [
    {
     "data": {
      "text/html": [
       "<div>\n",
       "<style scoped>\n",
       "    .dataframe tbody tr th:only-of-type {\n",
       "        vertical-align: middle;\n",
       "    }\n",
       "\n",
       "    .dataframe tbody tr th {\n",
       "        vertical-align: top;\n",
       "    }\n",
       "\n",
       "    .dataframe thead th {\n",
       "        text-align: right;\n",
       "    }\n",
       "</style>\n",
       "<table border=\"1\" class=\"dataframe\">\n",
       "  <thead>\n",
       "    <tr style=\"text-align: right;\">\n",
       "      <th>loan_status</th>\n",
       "      <th>person_emp_length</th>\n",
       "      <th>0</th>\n",
       "      <th>1</th>\n",
       "    </tr>\n",
       "  </thead>\n",
       "  <tbody>\n",
       "    <tr>\n",
       "      <th>35</th>\n",
       "      <td>123.0</td>\n",
       "      <td>1.0</td>\n",
       "      <td>1.0</td>\n",
       "    </tr>\n",
       "    <tr>\n",
       "      <th>34</th>\n",
       "      <td>41.0</td>\n",
       "      <td>1.0</td>\n",
       "      <td>NaN</td>\n",
       "    </tr>\n",
       "    <tr>\n",
       "      <th>33</th>\n",
       "      <td>38.0</td>\n",
       "      <td>1.0</td>\n",
       "      <td>NaN</td>\n",
       "    </tr>\n",
       "    <tr>\n",
       "      <th>32</th>\n",
       "      <td>34.0</td>\n",
       "      <td>NaN</td>\n",
       "      <td>1.0</td>\n",
       "    </tr>\n",
       "    <tr>\n",
       "      <th>31</th>\n",
       "      <td>31.0</td>\n",
       "      <td>4.0</td>\n",
       "      <td>NaN</td>\n",
       "    </tr>\n",
       "    <tr>\n",
       "      <th>30</th>\n",
       "      <td>30.0</td>\n",
       "      <td>1.0</td>\n",
       "      <td>1.0</td>\n",
       "    </tr>\n",
       "    <tr>\n",
       "      <th>29</th>\n",
       "      <td>29.0</td>\n",
       "      <td>NaN</td>\n",
       "      <td>1.0</td>\n",
       "    </tr>\n",
       "    <tr>\n",
       "      <th>28</th>\n",
       "      <td>28.0</td>\n",
       "      <td>3.0</td>\n",
       "      <td>NaN</td>\n",
       "    </tr>\n",
       "    <tr>\n",
       "      <th>27</th>\n",
       "      <td>27.0</td>\n",
       "      <td>4.0</td>\n",
       "      <td>1.0</td>\n",
       "    </tr>\n",
       "    <tr>\n",
       "      <th>26</th>\n",
       "      <td>26.0</td>\n",
       "      <td>5.0</td>\n",
       "      <td>1.0</td>\n",
       "    </tr>\n",
       "    <tr>\n",
       "      <th>25</th>\n",
       "      <td>25.0</td>\n",
       "      <td>8.0</td>\n",
       "      <td>NaN</td>\n",
       "    </tr>\n",
       "    <tr>\n",
       "      <th>24</th>\n",
       "      <td>24.0</td>\n",
       "      <td>7.0</td>\n",
       "      <td>3.0</td>\n",
       "    </tr>\n",
       "    <tr>\n",
       "      <th>23</th>\n",
       "      <td>23.0</td>\n",
       "      <td>7.0</td>\n",
       "      <td>3.0</td>\n",
       "    </tr>\n",
       "    <tr>\n",
       "      <th>22</th>\n",
       "      <td>22.0</td>\n",
       "      <td>16.0</td>\n",
       "      <td>3.0</td>\n",
       "    </tr>\n",
       "    <tr>\n",
       "      <th>21</th>\n",
       "      <td>21.0</td>\n",
       "      <td>28.0</td>\n",
       "      <td>10.0</td>\n",
       "    </tr>\n",
       "    <tr>\n",
       "      <th>20</th>\n",
       "      <td>20.0</td>\n",
       "      <td>29.0</td>\n",
       "      <td>13.0</td>\n",
       "    </tr>\n",
       "    <tr>\n",
       "      <th>19</th>\n",
       "      <td>19.0</td>\n",
       "      <td>55.0</td>\n",
       "      <td>9.0</td>\n",
       "    </tr>\n",
       "    <tr>\n",
       "      <th>18</th>\n",
       "      <td>18.0</td>\n",
       "      <td>93.0</td>\n",
       "      <td>11.0</td>\n",
       "    </tr>\n",
       "    <tr>\n",
       "      <th>17</th>\n",
       "      <td>17.0</td>\n",
       "      <td>107.0</td>\n",
       "      <td>22.0</td>\n",
       "    </tr>\n",
       "    <tr>\n",
       "      <th>16</th>\n",
       "      <td>16.0</td>\n",
       "      <td>145.0</td>\n",
       "      <td>20.0</td>\n",
       "    </tr>\n",
       "    <tr>\n",
       "      <th>15</th>\n",
       "      <td>15.0</td>\n",
       "      <td>195.0</td>\n",
       "      <td>43.0</td>\n",
       "    </tr>\n",
       "    <tr>\n",
       "      <th>14</th>\n",
       "      <td>14.0</td>\n",
       "      <td>279.0</td>\n",
       "      <td>56.0</td>\n",
       "    </tr>\n",
       "    <tr>\n",
       "      <th>13</th>\n",
       "      <td>13.0</td>\n",
       "      <td>375.0</td>\n",
       "      <td>51.0</td>\n",
       "    </tr>\n",
       "    <tr>\n",
       "      <th>12</th>\n",
       "      <td>12.0</td>\n",
       "      <td>485.0</td>\n",
       "      <td>90.0</td>\n",
       "    </tr>\n",
       "    <tr>\n",
       "      <th>11</th>\n",
       "      <td>11.0</td>\n",
       "      <td>604.0</td>\n",
       "      <td>136.0</td>\n",
       "    </tr>\n",
       "    <tr>\n",
       "      <th>10</th>\n",
       "      <td>10.0</td>\n",
       "      <td>577.0</td>\n",
       "      <td>119.0</td>\n",
       "    </tr>\n",
       "    <tr>\n",
       "      <th>9</th>\n",
       "      <td>9.0</td>\n",
       "      <td>1123.0</td>\n",
       "      <td>244.0</td>\n",
       "    </tr>\n",
       "    <tr>\n",
       "      <th>8</th>\n",
       "      <td>8.0</td>\n",
       "      <td>1406.0</td>\n",
       "      <td>281.0</td>\n",
       "    </tr>\n",
       "    <tr>\n",
       "      <th>7</th>\n",
       "      <td>7.0</td>\n",
       "      <td>1784.0</td>\n",
       "      <td>412.0</td>\n",
       "    </tr>\n",
       "    <tr>\n",
       "      <th>6</th>\n",
       "      <td>6.0</td>\n",
       "      <td>2166.0</td>\n",
       "      <td>500.0</td>\n",
       "    </tr>\n",
       "    <tr>\n",
       "      <th>5</th>\n",
       "      <td>5.0</td>\n",
       "      <td>2398.0</td>\n",
       "      <td>548.0</td>\n",
       "    </tr>\n",
       "    <tr>\n",
       "      <th>4</th>\n",
       "      <td>4.0</td>\n",
       "      <td>2264.0</td>\n",
       "      <td>610.0</td>\n",
       "    </tr>\n",
       "    <tr>\n",
       "      <th>3</th>\n",
       "      <td>3.0</td>\n",
       "      <td>2760.0</td>\n",
       "      <td>696.0</td>\n",
       "    </tr>\n",
       "    <tr>\n",
       "      <th>2</th>\n",
       "      <td>2.0</td>\n",
       "      <td>2862.0</td>\n",
       "      <td>987.0</td>\n",
       "    </tr>\n",
       "    <tr>\n",
       "      <th>1</th>\n",
       "      <td>1.0</td>\n",
       "      <td>2109.0</td>\n",
       "      <td>806.0</td>\n",
       "    </tr>\n",
       "    <tr>\n",
       "      <th>0</th>\n",
       "      <td>0.0</td>\n",
       "      <td>2958.0</td>\n",
       "      <td>1147.0</td>\n",
       "    </tr>\n",
       "  </tbody>\n",
       "</table>\n",
       "</div>"
      ],
      "text/plain": [
       "loan_status  person_emp_length       0       1\n",
       "35                       123.0     1.0     1.0\n",
       "34                        41.0     1.0     NaN\n",
       "33                        38.0     1.0     NaN\n",
       "32                        34.0     NaN     1.0\n",
       "31                        31.0     4.0     NaN\n",
       "30                        30.0     1.0     1.0\n",
       "29                        29.0     NaN     1.0\n",
       "28                        28.0     3.0     NaN\n",
       "27                        27.0     4.0     1.0\n",
       "26                        26.0     5.0     1.0\n",
       "25                        25.0     8.0     NaN\n",
       "24                        24.0     7.0     3.0\n",
       "23                        23.0     7.0     3.0\n",
       "22                        22.0    16.0     3.0\n",
       "21                        21.0    28.0    10.0\n",
       "20                        20.0    29.0    13.0\n",
       "19                        19.0    55.0     9.0\n",
       "18                        18.0    93.0    11.0\n",
       "17                        17.0   107.0    22.0\n",
       "16                        16.0   145.0    20.0\n",
       "15                        15.0   195.0    43.0\n",
       "14                        14.0   279.0    56.0\n",
       "13                        13.0   375.0    51.0\n",
       "12                        12.0   485.0    90.0\n",
       "11                        11.0   604.0   136.0\n",
       "10                        10.0   577.0   119.0\n",
       "9                          9.0  1123.0   244.0\n",
       "8                          8.0  1406.0   281.0\n",
       "7                          7.0  1784.0   412.0\n",
       "6                          6.0  2166.0   500.0\n",
       "5                          5.0  2398.0   548.0\n",
       "4                          4.0  2264.0   610.0\n",
       "3                          3.0  2760.0   696.0\n",
       "2                          2.0  2862.0   987.0\n",
       "1                          1.0  2109.0   806.0\n",
       "0                          0.0  2958.0  1147.0"
      ]
     },
     "execution_count": 105,
     "metadata": {},
     "output_type": "execute_result"
    }
   ],
   "source": [
    "\n",
    "dat.pivot_table(index=\"person_emp_length\", columns = \"loan_status\", values=\"loan_percent_income\", aggfunc=\"count\").reset_index().sort_values(by=\"person_emp_length\", ascending=False)"
   ]
  },
  {
   "cell_type": "markdown",
   "metadata": {},
   "source": [
    "In fact we have two records of someone with 123 years of employment length, and they weren't filtered out when we filtered out our age outliers. This means the employment length is also an outlier separate from the age\n",
    "<br>\n",
    "<br>\n",
    "Let's remove those employment outliers, say filtering out anyone with more than 40 years employment (because the next set of values was 38 years):"
   ]
  },
  {
   "cell_type": "code",
   "execution_count": 106,
   "metadata": {},
   "outputs": [
    {
     "data": {
      "text/html": [
       "<div>\n",
       "<style scoped>\n",
       "    .dataframe tbody tr th:only-of-type {\n",
       "        vertical-align: middle;\n",
       "    }\n",
       "\n",
       "    .dataframe tbody tr th {\n",
       "        vertical-align: top;\n",
       "    }\n",
       "\n",
       "    .dataframe thead th {\n",
       "        text-align: right;\n",
       "    }\n",
       "</style>\n",
       "<table border=\"1\" class=\"dataframe\">\n",
       "  <thead>\n",
       "    <tr style=\"text-align: right;\">\n",
       "      <th></th>\n",
       "      <th>person_age</th>\n",
       "      <th>person_income</th>\n",
       "      <th>person_emp_length</th>\n",
       "      <th>loan_amnt</th>\n",
       "      <th>loan_int_rate</th>\n",
       "      <th>loan_status</th>\n",
       "      <th>loan_percent_income</th>\n",
       "      <th>cb_person_cred_hist_length</th>\n",
       "    </tr>\n",
       "  </thead>\n",
       "  <tbody>\n",
       "    <tr>\n",
       "      <th>count</th>\n",
       "      <td>31671.000000</td>\n",
       "      <td>3.167100e+04</td>\n",
       "      <td>31671.000000</td>\n",
       "      <td>31671.000000</td>\n",
       "      <td>28626.000000</td>\n",
       "      <td>31671.000000</td>\n",
       "      <td>31671.000000</td>\n",
       "      <td>31671.000000</td>\n",
       "    </tr>\n",
       "    <tr>\n",
       "      <th>mean</th>\n",
       "      <td>27.717754</td>\n",
       "      <td>6.649231e+04</td>\n",
       "      <td>4.780714</td>\n",
       "      <td>9660.637492</td>\n",
       "      <td>11.040070</td>\n",
       "      <td>0.215497</td>\n",
       "      <td>0.169621</td>\n",
       "      <td>5.804395</td>\n",
       "    </tr>\n",
       "    <tr>\n",
       "      <th>std</th>\n",
       "      <td>6.159859</td>\n",
       "      <td>5.277413e+04</td>\n",
       "      <td>4.028718</td>\n",
       "      <td>6334.716643</td>\n",
       "      <td>3.229507</td>\n",
       "      <td>0.411173</td>\n",
       "      <td>0.106275</td>\n",
       "      <td>4.048776</td>\n",
       "    </tr>\n",
       "    <tr>\n",
       "      <th>min</th>\n",
       "      <td>20.000000</td>\n",
       "      <td>4.000000e+03</td>\n",
       "      <td>0.000000</td>\n",
       "      <td>500.000000</td>\n",
       "      <td>5.420000</td>\n",
       "      <td>0.000000</td>\n",
       "      <td>0.000000</td>\n",
       "      <td>2.000000</td>\n",
       "    </tr>\n",
       "    <tr>\n",
       "      <th>25%</th>\n",
       "      <td>23.000000</td>\n",
       "      <td>3.936600e+04</td>\n",
       "      <td>2.000000</td>\n",
       "      <td>5000.000000</td>\n",
       "      <td>7.900000</td>\n",
       "      <td>0.000000</td>\n",
       "      <td>0.090000</td>\n",
       "      <td>3.000000</td>\n",
       "    </tr>\n",
       "    <tr>\n",
       "      <th>50%</th>\n",
       "      <td>26.000000</td>\n",
       "      <td>5.600000e+04</td>\n",
       "      <td>4.000000</td>\n",
       "      <td>8000.000000</td>\n",
       "      <td>10.990000</td>\n",
       "      <td>0.000000</td>\n",
       "      <td>0.150000</td>\n",
       "      <td>4.000000</td>\n",
       "    </tr>\n",
       "    <tr>\n",
       "      <th>75%</th>\n",
       "      <td>30.000000</td>\n",
       "      <td>8.000000e+04</td>\n",
       "      <td>7.000000</td>\n",
       "      <td>12500.000000</td>\n",
       "      <td>13.480000</td>\n",
       "      <td>0.000000</td>\n",
       "      <td>0.230000</td>\n",
       "      <td>8.000000</td>\n",
       "    </tr>\n",
       "    <tr>\n",
       "      <th>max</th>\n",
       "      <td>70.000000</td>\n",
       "      <td>2.039784e+06</td>\n",
       "      <td>38.000000</td>\n",
       "      <td>35000.000000</td>\n",
       "      <td>23.220000</td>\n",
       "      <td>1.000000</td>\n",
       "      <td>0.830000</td>\n",
       "      <td>30.000000</td>\n",
       "    </tr>\n",
       "  </tbody>\n",
       "</table>\n",
       "</div>"
      ],
      "text/plain": [
       "         person_age  person_income  person_emp_length     loan_amnt  \\\n",
       "count  31671.000000   3.167100e+04       31671.000000  31671.000000   \n",
       "mean      27.717754   6.649231e+04           4.780714   9660.637492   \n",
       "std        6.159859   5.277413e+04           4.028718   6334.716643   \n",
       "min       20.000000   4.000000e+03           0.000000    500.000000   \n",
       "25%       23.000000   3.936600e+04           2.000000   5000.000000   \n",
       "50%       26.000000   5.600000e+04           4.000000   8000.000000   \n",
       "75%       30.000000   8.000000e+04           7.000000  12500.000000   \n",
       "max       70.000000   2.039784e+06          38.000000  35000.000000   \n",
       "\n",
       "       loan_int_rate   loan_status  loan_percent_income  \\\n",
       "count   28626.000000  31671.000000         31671.000000   \n",
       "mean       11.040070      0.215497             0.169621   \n",
       "std         3.229507      0.411173             0.106275   \n",
       "min         5.420000      0.000000             0.000000   \n",
       "25%         7.900000      0.000000             0.090000   \n",
       "50%        10.990000      0.000000             0.150000   \n",
       "75%        13.480000      0.000000             0.230000   \n",
       "max        23.220000      1.000000             0.830000   \n",
       "\n",
       "       cb_person_cred_hist_length  \n",
       "count                31671.000000  \n",
       "mean                     5.804395  \n",
       "std                      4.048776  \n",
       "min                      2.000000  \n",
       "25%                      3.000000  \n",
       "50%                      4.000000  \n",
       "75%                      8.000000  \n",
       "max                     30.000000  "
      ]
     },
     "execution_count": 106,
     "metadata": {},
     "output_type": "execute_result"
    }
   ],
   "source": [
    "dat_age_empfilter = dat_agefilter[dat_agefilter[\"person_emp_length\"] < 40]\n",
    "dat_age_empfilter.describe()\n"
   ]
  },
  {
   "cell_type": "markdown",
   "metadata": {},
   "source": [
    "Okay so we still have someone making 2 million dollars a year but other than that the numbers look much better. Let's move on to NULL values"
   ]
  },
  {
   "cell_type": "code",
   "execution_count": 107,
   "metadata": {},
   "outputs": [
    {
     "data": {
      "text/plain": [
       "person_age                       0\n",
       "person_income                    0\n",
       "person_home_ownership            0\n",
       "person_emp_length                0\n",
       "loan_intent                      0\n",
       "loan_grade                       0\n",
       "loan_amnt                        0\n",
       "loan_int_rate                 3045\n",
       "loan_status                      0\n",
       "loan_percent_income              0\n",
       "cb_person_default_on_file        0\n",
       "cb_person_cred_hist_length       0\n",
       "dtype: int64"
      ]
     },
     "execution_count": 107,
     "metadata": {},
     "output_type": "execute_result"
    }
   ],
   "source": [
    "dat_age_empfilter.isnull().sum() "
   ]
  },
  {
   "cell_type": "markdown",
   "metadata": {},
   "source": [
    "We have lots of null values for the loan interest rate, and none for the other columns"
   ]
  },
  {
   "cell_type": "markdown",
   "metadata": {},
   "source": [
    "So the fact that we have a bunch of missing rate values is a small problem that will require some imputation. \n",
    "\n",
    "We could impute the missing values with the mean or median of the column, as they are pretty close to each other (11.04% mean, 10.99% median as per the `describe()` output above)\n",
    "\n",
    "Importantly, we will wait until after the train-test split to do the mean imputation! Otherwise we are opening ourselves up to 'data leakage' - using 'global' values of the dataset to inform our model during the training phase. This will overinflate our estimates of accuracy, which would then lead us to be disappointed in our model's performance when it came time to generalize it to new data."
   ]
  },
  {
   "cell_type": "markdown",
   "metadata": {},
   "source": [
    "## Train-Test Split"
   ]
  },
  {
   "cell_type": "markdown",
   "metadata": {},
   "source": [
    "We will perform a standard 80-20 train-test split on the dataset, with loan_status as the target. We will then verify that the relative proportions of defaults and non defaults are comparable between the training and test datasets, to make sure that we are not imbalancing our classes during model evaluation."
   ]
  },
  {
   "cell_type": "code",
   "execution_count": 108,
   "metadata": {},
   "outputs": [
    {
     "name": "stdout",
     "output_type": "stream",
     "text": [
      "loan_status\n",
      "0    0.784496\n",
      "1    0.215504\n",
      "Name: proportion, dtype: float64\n",
      "loan_status\n",
      "0    0.78453\n",
      "1    0.21547\n",
      "Name: proportion, dtype: float64\n"
     ]
    }
   ],
   "source": [
    "# Set up dataframe and target column:\n",
    "df = dat_age_empfilter.copy()\n",
    "X = df.drop(columns=[\"loan_status\"])\n",
    "y = df[\"loan_status\"]\n",
    "\n",
    "X_train, X_test, y_train, y_test = train_test_split(\n",
    "    X, y,\n",
    "    test_size = 0.2,\n",
    "    random_state = 12345,\n",
    "    stratify = y # retain the 0.785/0.215 split of the binary target variable\n",
    ")\n",
    "\n",
    "# Verify class distribution on target variable in train/test sets\n",
    "print(y_train.value_counts(normalize=True))\n",
    "print(y_test.value_counts(normalize=True))  "
   ]
  },
  {
   "cell_type": "markdown",
   "metadata": {},
   "source": [
    "Now we have our train and test sets, and the target ratio has been held constant\n",
    "\n",
    "Our next steps are to start preprocessing the data. Recall that we had a bunch of missing values for the loan interest rate and we wanted to mean impute them. We can do that now, because we're working with separate train and test sets so as long as we use the train data characteristics for our preprocessing we will avoid data leakage."
   ]
  },
  {
   "cell_type": "code",
   "execution_count": 109,
   "metadata": {},
   "outputs": [
    {
     "name": "stdout",
     "output_type": "stream",
     "text": [
      "loan_grade\n",
      "A    0.094216\n",
      "B    0.159956\n",
      "C    0.199449\n",
      "D    0.597956\n",
      "E    0.636364\n",
      "F    0.693069\n",
      "G    0.980392\n",
      "Name: loan_status, dtype: float64\n"
     ]
    }
   ],
   "source": [
    "loan_grade_means_train = X_train.join(y_train).groupby('loan_grade', observed=False)['loan_status'].mean()\n",
    "print(loan_grade_means_train)"
   ]
  },
  {
   "cell_type": "markdown",
   "metadata": {},
   "source": [
    "## Mean Imputation of Loan Interest Rates"
   ]
  },
  {
   "cell_type": "markdown",
   "metadata": {},
   "source": [
    "To mean impute the interest rates, we will first create an imputer object. We will specify it to use `mean` as its technique. We will then fit it to the training data, and apply it to transform both the train and test side of loan interest rate missing values to the training set mean."
   ]
  },
  {
   "cell_type": "code",
   "execution_count": 110,
   "metadata": {},
   "outputs": [],
   "source": [
    "# Create the SimpleImputer object, specifying 'mean' as the technique to use:\n",
    "imputer = SimpleImputer(strategy=\"mean\")\n",
    "\n",
    "# Fit and transform the loan_int_rate column of the training set:\n",
    "X_train['loan_int_rate'] = imputer.fit_transform(X_train[['loan_int_rate']]) # fit to the train data mean, then transform accordingly"
   ]
  },
  {
   "cell_type": "markdown",
   "metadata": {},
   "source": [
    "Now our training data has been preprocessed so that missing values of the loan interest rate are replaced with the mean loan interest rate, specific to the training dataset. \n",
    "\n",
    "It's very important that we apply this same imputation to the test dataset, but ALSO use the train dataset mean. This is because, to avoid data leakage, we have to 'view all attributes according to our training data'. There's probably a better way of articulating that. "
   ]
  },
  {
   "cell_type": "code",
   "execution_count": 111,
   "metadata": {},
   "outputs": [],
   "source": [
    "X_test['loan_int_rate'] = imputer.transform(X_test[['loan_int_rate']]) # only transform, don't fit"
   ]
  },
  {
   "cell_type": "markdown",
   "metadata": {},
   "source": [
    "## Examining Categorical Variables\n",
    "\n",
    "Let's look at our categorical variables now"
   ]
  },
  {
   "cell_type": "code",
   "execution_count": 112,
   "metadata": {},
   "outputs": [
    {
     "data": {
      "text/html": [
       "<div>\n",
       "<style scoped>\n",
       "    .dataframe tbody tr th:only-of-type {\n",
       "        vertical-align: middle;\n",
       "    }\n",
       "\n",
       "    .dataframe tbody tr th {\n",
       "        vertical-align: top;\n",
       "    }\n",
       "\n",
       "    .dataframe thead th {\n",
       "        text-align: right;\n",
       "    }\n",
       "</style>\n",
       "<table border=\"1\" class=\"dataframe\">\n",
       "  <thead>\n",
       "    <tr style=\"text-align: right;\">\n",
       "      <th></th>\n",
       "      <th>person_age</th>\n",
       "      <th>person_income</th>\n",
       "      <th>person_home_ownership</th>\n",
       "      <th>person_emp_length</th>\n",
       "      <th>loan_intent</th>\n",
       "      <th>loan_grade</th>\n",
       "      <th>loan_amnt</th>\n",
       "      <th>loan_int_rate</th>\n",
       "      <th>loan_percent_income</th>\n",
       "      <th>cb_person_default_on_file</th>\n",
       "      <th>cb_person_cred_hist_length</th>\n",
       "    </tr>\n",
       "  </thead>\n",
       "  <tbody>\n",
       "    <tr>\n",
       "      <th>15540</th>\n",
       "      <td>23</td>\n",
       "      <td>76000</td>\n",
       "      <td>RENT</td>\n",
       "      <td>3.0</td>\n",
       "      <td>VENTURE</td>\n",
       "      <td>B</td>\n",
       "      <td>15000</td>\n",
       "      <td>10.74</td>\n",
       "      <td>0.20</td>\n",
       "      <td>N</td>\n",
       "      <td>4</td>\n",
       "    </tr>\n",
       "    <tr>\n",
       "      <th>16441</th>\n",
       "      <td>26</td>\n",
       "      <td>51996</td>\n",
       "      <td>MORTGAGE</td>\n",
       "      <td>2.0</td>\n",
       "      <td>DEBTCONSOLIDATION</td>\n",
       "      <td>E</td>\n",
       "      <td>6500</td>\n",
       "      <td>15.68</td>\n",
       "      <td>0.13</td>\n",
       "      <td>N</td>\n",
       "      <td>3</td>\n",
       "    </tr>\n",
       "    <tr>\n",
       "      <th>1313</th>\n",
       "      <td>20</td>\n",
       "      <td>64000</td>\n",
       "      <td>RENT</td>\n",
       "      <td>3.0</td>\n",
       "      <td>VENTURE</td>\n",
       "      <td>D</td>\n",
       "      <td>16000</td>\n",
       "      <td>15.31</td>\n",
       "      <td>0.25</td>\n",
       "      <td>Y</td>\n",
       "      <td>4</td>\n",
       "    </tr>\n",
       "    <tr>\n",
       "      <th>2309</th>\n",
       "      <td>25</td>\n",
       "      <td>24996</td>\n",
       "      <td>RENT</td>\n",
       "      <td>8.0</td>\n",
       "      <td>VENTURE</td>\n",
       "      <td>C</td>\n",
       "      <td>2500</td>\n",
       "      <td>12.98</td>\n",
       "      <td>0.10</td>\n",
       "      <td>N</td>\n",
       "      <td>4</td>\n",
       "    </tr>\n",
       "    <tr>\n",
       "      <th>4638</th>\n",
       "      <td>24</td>\n",
       "      <td>42000</td>\n",
       "      <td>MORTGAGE</td>\n",
       "      <td>3.0</td>\n",
       "      <td>EDUCATION</td>\n",
       "      <td>A</td>\n",
       "      <td>8675</td>\n",
       "      <td>7.51</td>\n",
       "      <td>0.21</td>\n",
       "      <td>N</td>\n",
       "      <td>4</td>\n",
       "    </tr>\n",
       "  </tbody>\n",
       "</table>\n",
       "</div>"
      ],
      "text/plain": [
       "       person_age  person_income person_home_ownership  person_emp_length  \\\n",
       "15540          23          76000                  RENT                3.0   \n",
       "16441          26          51996              MORTGAGE                2.0   \n",
       "1313           20          64000                  RENT                3.0   \n",
       "2309           25          24996                  RENT                8.0   \n",
       "4638           24          42000              MORTGAGE                3.0   \n",
       "\n",
       "             loan_intent loan_grade  loan_amnt  loan_int_rate  \\\n",
       "15540            VENTURE          B      15000          10.74   \n",
       "16441  DEBTCONSOLIDATION          E       6500          15.68   \n",
       "1313             VENTURE          D      16000          15.31   \n",
       "2309             VENTURE          C       2500          12.98   \n",
       "4638           EDUCATION          A       8675           7.51   \n",
       "\n",
       "       loan_percent_income cb_person_default_on_file  \\\n",
       "15540                 0.20                         N   \n",
       "16441                 0.13                         N   \n",
       "1313                  0.25                         Y   \n",
       "2309                  0.10                         N   \n",
       "4638                  0.21                         N   \n",
       "\n",
       "       cb_person_cred_hist_length  \n",
       "15540                           4  \n",
       "16441                           3  \n",
       "1313                            4  \n",
       "2309                            4  \n",
       "4638                            4  "
      ]
     },
     "execution_count": 112,
     "metadata": {},
     "output_type": "execute_result"
    }
   ],
   "source": [
    "X_test.head() "
   ]
  },
  {
   "cell_type": "markdown",
   "metadata": {},
   "source": [
    "Looking at the dataframe it looks like our categorical variables are `person_home_ownership`, `loan_intent`, `loan_grade`, and `cb_person_default_on_file`"
   ]
  },
  {
   "cell_type": "code",
   "execution_count": 113,
   "metadata": {},
   "outputs": [
    {
     "data": {
      "text/plain": [
       "person_home_ownership\n",
       "MORTGAGE    10535\n",
       "OTHER          80\n",
       "OWN          1930\n",
       "RENT        12791\n",
       "Name: loan_intent, dtype: int64"
      ]
     },
     "execution_count": 113,
     "metadata": {},
     "output_type": "execute_result"
    }
   ],
   "source": [
    "# Let's look at home ownership first. Let's see how many people fall into each category:\n",
    "X_train[\"person_home_ownership\"].value_counts()\n",
    "\n",
    "# Another way of doing it:\n",
    "X_train.groupby('person_home_ownership').count()['loan_intent']"
   ]
  },
  {
   "cell_type": "markdown",
   "metadata": {},
   "source": [
    "Pretty balanced between people with active mortgages and renters. Relatively few people outright own their home (but they would probably be good to lend to), and there are a handful of 'other' cases\n",
    "\n",
    "Let's do the same thing for `loan_intent`, i.e. what the borrower intends to use the loan for:"
   ]
  },
  {
   "cell_type": "code",
   "execution_count": 114,
   "metadata": {},
   "outputs": [
    {
     "data": {
      "text/plain": [
       "loan_intent\n",
       "EDUCATION            5003\n",
       "MEDICAL              4650\n",
       "VENTURE              4449\n",
       "PERSONAL             4335\n",
       "DEBTCONSOLIDATION    4095\n",
       "HOMEIMPROVEMENT      2804\n",
       "Name: count, dtype: int64"
      ]
     },
     "execution_count": 114,
     "metadata": {},
     "output_type": "execute_result"
    }
   ],
   "source": [
    "X_train[\"loan_intent\"].value_counts()"
   ]
  },
  {
   "cell_type": "markdown",
   "metadata": {},
   "source": [
    "Things are pretty balanced there. Now let's look at loan grades, i.e. the pre-judgment from the lender on whether this is a high quality loan (likely to be mutually beneficial, favourable lending conditions) or low quality (unfavourable conditions)"
   ]
  },
  {
   "cell_type": "code",
   "execution_count": 115,
   "metadata": {},
   "outputs": [
    {
     "data": {
      "text/plain": [
       "loan_grade\n",
       "A    8247\n",
       "B    8171\n",
       "C    5079\n",
       "D    2838\n",
       "E     748\n",
       "F     202\n",
       "G      51\n",
       "Name: count, dtype: int64"
      ]
     },
     "execution_count": 115,
     "metadata": {},
     "output_type": "execute_result"
    }
   ],
   "source": [
    "X_train[\"loan_grade\"].value_counts()"
   ]
  },
  {
   "cell_type": "markdown",
   "metadata": {},
   "source": [
    "So most loans are graded in the A or B range, with fewer cases in E/F/G. We would predict to see a higher default rate in the lower graded loans\n",
    "\n",
    "Because this is a categorical variable we'll have to transform (i.e. encode) it into numerical format - we can ordinally encode it to ensure that the categories retaintheir ordinal relationship\n",
    "\n",
    "Alternatively we can use target encoding, where we replace the category value with the mean default rate of that category. "
   ]
  },
  {
   "cell_type": "markdown",
   "metadata": {},
   "source": [
    "Let's visualize the loan interest rate by loan grade. We'll want to make sure that loan_grade is ordered."
   ]
  },
  {
   "cell_type": "code",
   "execution_count": 116,
   "metadata": {},
   "outputs": [
    {
     "data": {
      "image/png": "[encoded data removed]",
      "text/plain": [
       "<Figure size 640x480 with 1 Axes>"
      ]
     },
     "metadata": {},
     "output_type": "display_data"
    }
   ],
   "source": [
    "X_train[\"loan_grade\"] = pd.Categorical(X_train[\"loan_grade\"], categories=[\"A\", \"B\", \"C\", \"D\", \"E\", \"F\", \"G\"], ordered=True)\n",
    "sns.boxplot(x=\"loan_grade\", y=\"loan_int_rate\", data=X_train)\n",
    "plt.ylabel(\"Loan Interest Rate\")\n",
    "plt.xlabel(\"Loan Grade\")\n",
    "plt.show()"
   ]
  },
  {
   "cell_type": "markdown",
   "metadata": {},
   "source": [
    "Wow, that's quite the relationship. Pretty positive, linear relationship where loans graded worse have higher interest rates. Those might be hard to pay off! I'd bet that worse graded loans have higher default rates, we'll get there in due time. This makes me think we might have been better off using a slightly more sophisticated method to impute the missing interest rate values, and used the loan-grade-specific mean interest rate as opposed to the overall mean interest rate. If we have poor model performance we'll see if we need to tweak that.\n",
    "\n"
   ]
  },
  {
   "cell_type": "markdown",
   "metadata": {},
   "source": [
    "Let's also visualize the loan amount as a function of loan grade:"
   ]
  },
  {
   "cell_type": "code",
   "execution_count": 117,
   "metadata": {},
   "outputs": [
    {
     "data": {
      "image/png": "[encoded data removed]",
      "text/plain": [
       "<Figure size 640x480 with 1 Axes>"
      ]
     },
     "metadata": {},
     "output_type": "display_data"
    }
   ],
   "source": [
    "sns.boxplot(x=\"loan_grade\", y=\"loan_amnt\", data=X_train)\n",
    "plt.ylabel(\"Loan Amount\")\n",
    "plt.xlabel(\"Loan Grade\")\n",
    "plt.show()\n"
   ]
  },
  {
   "cell_type": "markdown",
   "metadata": {},
   "source": [
    "Less pronounced relationship but we see a higher concentration of modest loan amounts in the first three or four grades\n",
    "\n",
    "Back to my earlier prediction though, I want to see the default rate binned by loan grade. We've already split the loan status out of our training dataset though, as it is our target, so we'll have to briefly join them back together again"
   ]
  },
  {
   "cell_type": "code",
   "execution_count": 118,
   "metadata": {},
   "outputs": [
    {
     "data": {
      "image/png": "[encoded data removed]",
      "text/plain": [
       "<Figure size 600x400 with 1 Axes>"
      ]
     },
     "metadata": {},
     "output_type": "display_data"
    }
   ],
   "source": [
    "grade_default_rates = X_train.join(y_train).groupby('loan_grade', observed=False)['loan_status'].mean()\n",
    "plt.figure(figsize=(6,4))\n",
    "sns.barplot(x=grade_default_rates.index, y=grade_default_rates.values)\n",
    "plt.xlabel(\"Loan Grade\")\n",
    "plt.ylabel(\"Proportion Defaulted\")\n",
    "plt.show()"
   ]
  },
  {
   "cell_type": "markdown",
   "metadata": {},
   "source": [
    "Wow, that's a pretty staggering result. Almost 100% of loans graded as 'G' go into default! \n",
    "\n",
    "Let's visualize the relationship between default probability and interest rate using Logistic Regression. We would predict to see higher default probability as a function of interest rate, as the loans become harder and harder to pay off.\n",
    "\n",
    "We are using the old, pre-mean-imputed dataframe, so there will be lots of NAs in the `loan_int_rate` column that will cause the model to break. So we will build the model in a way that just removes those NAs for now."
   ]
  },
  {
   "cell_type": "code",
   "execution_count": 119,
   "metadata": {},
   "outputs": [
    {
     "name": "stdout",
     "output_type": "stream",
     "text": [
      "Optimization terminated successfully.\n",
      "         Current function value: 0.466884\n",
      "         Iterations 6\n"
     ]
    },
    {
     "data": {
      "image/png": "[encoded data removed]",
      "text/plain": [
       "<Figure size 1200x800 with 1 Axes>"
      ]
     },
     "metadata": {},
     "output_type": "display_data"
    }
   ],
   "source": [
    "# Drop rows with NaN values in either loan_int_rate and loan_status columns\n",
    "df_clean = X_train.join(y_train).dropna(subset=['loan_int_rate', 'loan_status'])\n",
    "\n",
    "# Fit the logistic regression model itself\n",
    "X = sm.add_constant(df_clean[\"loan_int_rate\"])\n",
    "y = df_clean[\"loan_status\"]\n",
    "logit_model = sm.Logit(y, X).fit() \n",
    "\n",
    "# Generate predictions using the model and a synthetic vector of values within the range of interest rates\n",
    "interest_range = np.linspace(df_clean['loan_int_rate'].min(), df_clean['loan_int_rate'].max(), 100)\n",
    "X_pred = sm.add_constant(interest_range)\n",
    "y_pred = logit_model.predict(X_pred)\n",
    "\n",
    "# Plot the data points and the fitted curve\n",
    "plt.figure(figsize=(12,8))\n",
    "sns.scatterplot(x=df_clean['loan_int_rate'], y = df_clean['loan_status'], color='black')\n",
    "plt.plot(interest_range, y_pred, color='red', label='Logistic Regression Fit')\n",
    "\n",
    "# Formatting\n",
    "plt.xlabel('Loan Interest Rate (%)')\n",
    "plt.ylabel('Probability of Default')\n",
    "plt.title('Logistic Regression of Default Probability as Function of Loan Interest Rate')\n",
    "plt.legend()\n",
    "plt.show()\n"
   ]
  },
  {
   "cell_type": "markdown",
   "metadata": {},
   "source": [
    "So we see a positive sigmoidal relationship between interest rates and default probability. This is what we would expect, as higher interest rates make the loans more expensive and harder to pay off. Let's connect this back to our loan grades, and just take a peek at the numerical default rates of each grade:"
   ]
  },
  {
   "cell_type": "code",
   "execution_count": 120,
   "metadata": {},
   "outputs": [
    {
     "data": {
      "text/plain": [
       "loan_grade\n",
       "A    0.094216\n",
       "B    0.159956\n",
       "C    0.199449\n",
       "D    0.597956\n",
       "E    0.636364\n",
       "F    0.693069\n",
       "G    0.980392\n",
       "Name: loan_status, dtype: float64"
      ]
     },
     "execution_count": 120,
     "metadata": {},
     "output_type": "execute_result"
    }
   ],
   "source": [
    "df_clean.groupby(\"loan_grade\", observed=False)[\"loan_status\"].mean()"
   ]
  },
  {
   "cell_type": "markdown",
   "metadata": {},
   "source": [
    "Our suspicion is true, the lower in the loan grade you go the higher the default rate. Notice that class G has a near 100% default rate! We could probably improve lending practices by retaining the criteria that grade a loan out as G, but then decline to provide those loans. If our goal is to minimize default rate, it would be best to promote loans in the A/B/C range, maybe do a handful of C/D/E loans, try to avoid E/F, and never give out G. But lenders aren't necessarily prioritizing minimization of deault, but rather *maximizing profit*. It's possible that there's a sweet spot between interest rates where you're receiving most of your payments, a few loans may go into default but overall you are profiting well from those investments."
   ]
  },
  {
   "cell_type": "markdown",
   "metadata": {},
   "source": [
    "Because the different loan grades have a pretty meaningful mapping onto default rate, we should include them in our analysis. Later on we'll target encode them to the average probability of each grade defaulting. "
   ]
  },
  {
   "cell_type": "markdown",
   "metadata": {},
   "source": [
    "Another categorical variable we haven't really looked at yet is loan intent, or what the money will actually be used for. Once again we are using the global dataset to look at this, because we've decoupled the loan status from the rest of the data in the training set already:"
   ]
  },
  {
   "cell_type": "code",
   "execution_count": 121,
   "metadata": {},
   "outputs": [
    {
     "data": {
      "image/png": "[encoded data removed]",
      "text/plain": [
       "<Figure size 1200x600 with 1 Axes>"
      ]
     },
     "metadata": {},
     "output_type": "display_data"
    }
   ],
   "source": [
    "intent_default_rates = df_clean.groupby('loan_intent')['loan_status'].mean()\n",
    "plt.figure(figsize=(12,6))\n",
    "sns.barplot(x=intent_default_rates.index, y=intent_default_rates.values)\n",
    "plt.xlabel(\"Loan Intent\")\n",
    "plt.ylabel(\"Proportion Defaulted\")\n",
    "plt.show()"
   ]
  },
  {
   "cell_type": "markdown",
   "metadata": {},
   "source": [
    "The probability distribution is pretty uniform, with possibly a slight bump for debt consolidation. Makes sense, if someone had enough debt to need a consolidation it's likely that their financial situation or habits aren't quite the best and would be more likely to default on the consolidation loan. \n",
    "\n",
    "Interestingly, the highest default proportion for consolidation is still only ~0.3. So the nature of the loan is far less prescriptive in terms of default probability than the grade or interest rate, it would seem."
   ]
  },
  {
   "cell_type": "markdown",
   "metadata": {},
   "source": [
    "Let's do this type of figure again for the home ownership category - someone who outright owns their home and doesn't have a mortgage or rent to pay should in theory have more free cash flow (with the caveat that they may be retired and not have as much annual income), and might be able to service a loan better. My guess is we see lower default rates for owners compared to renters."
   ]
  },
  {
   "cell_type": "code",
   "execution_count": 122,
   "metadata": {},
   "outputs": [
    {
     "data": {
      "image/png": "[encoded data removed]",
      "text/plain": [
       "<Figure size 900x600 with 1 Axes>"
      ]
     },
     "metadata": {},
     "output_type": "display_data"
    }
   ],
   "source": [
    "home_default_rates = df_clean.groupby('person_home_ownership')['loan_status'].mean()\n",
    "plt.figure(figsize=(9,6))\n",
    "sns.barplot(x=home_default_rates.index, y=home_default_rates.values)\n",
    "plt.xlabel(\"Home Ownership Status\")\n",
    "plt.ylabel(\"Proportion Defaulted\")\n",
    "plt.show()"
   ]
  },
  {
   "cell_type": "markdown",
   "metadata": {},
   "source": [
    "This matches our expectations for home ownership and suggests that people who outright own a home have an easier time making loan payments.\n",
    "\n",
    "Interestingly, we also see that people with an active mortgage are pretty low on the default rate, perhaps because they have already demonstrated to a lender that they can manage the finances of a loan.\n",
    "\n",
    "Lastly, we see that renters and 'others' have higher default rates, likely due to less available cashflow. I'm tempted to collapse 'other' into 'rent' for the purposes of this analysis, but I'll leave it as we want to make as few manipulations to the data as possible"
   ]
  },
  {
   "cell_type": "markdown",
   "metadata": {},
   "source": [
    "Let's do this type of figure one last time for the 'default on record' feature- someone who has defaulted before might be more likely to default again. One could conceive the opposite effect though. If someone has defaulted already on a loan, it may have taken them a ton of work to improve their financial standing enough to take on another loan. That improvement in standing may lead those individuals to then be *less* likely to default compared to the average population who has not defaulted before. This effect may depend on the strictness of the lending agency that they're getting their post-default loan from."
   ]
  },
  {
   "cell_type": "code",
   "execution_count": 123,
   "metadata": {},
   "outputs": [
    {
     "data": {
      "image/png": "[encoded data removed]",
      "text/plain": [
       "<Figure size 900x600 with 1 Axes>"
      ]
     },
     "metadata": {},
     "output_type": "display_data"
    }
   ],
   "source": [
    "home_default_rates = df_clean.groupby('cb_person_default_on_file')['loan_status'].mean()\n",
    "plt.figure(figsize=(9,6))\n",
    "sns.barplot(x=home_default_rates.index, y=home_default_rates.values)\n",
    "plt.xlabel(\"Default on File\")\n",
    "plt.ylabel(\"Proportion Defaulted\")\n",
    "plt.show()"
   ]
  },
  {
   "cell_type": "markdown",
   "metadata": {},
   "source": [
    "People who have defaulted before are likely to default again. The 'improved financial standing' hypothesis may have been a bit far-fetched but was a fun thought exercise."
   ]
  },
  {
   "cell_type": "markdown",
   "metadata": {},
   "source": [
    "## Transforming Categorical Variables\n",
    "\n",
    "So for our categorical variable transformation we will transform the following:\n",
    "- person_home_ownership: one-hot encoding\n",
    "- loan_intent: one-hot encoding\n",
    "- person_default_on_file: binary encoding\n",
    "- loan_grade: target encoding"
   ]
  },
  {
   "cell_type": "markdown",
   "metadata": {},
   "source": [
    "### One hot encoding for home ownership and loan intent"
   ]
  },
  {
   "cell_type": "markdown",
   "metadata": {},
   "source": [
    "We will initialize the encoder, then apply it to our home ownership and loan intent columns for both the train and test data:"
   ]
  },
  {
   "cell_type": "code",
   "execution_count": 124,
   "metadata": {},
   "outputs": [],
   "source": [
    "\n",
    "\n",
    "# Import and set up the encoder\n",
    "from sklearn.preprocessing import OneHotEncoder\n",
    "OHE = OneHotEncoder(handle_unknown='ignore', sparse_output=False)\n",
    "\n",
    "\n",
    "# Fit and transform the two columns for OHE:\n",
    "X_train = X_train.reset_index(drop=True) # reset the index to make sure rows line up properly\n",
    "X_test = X_test.reset_index(drop=True)\n",
    "# if we're doing that for the train we also need to do it for the test\n",
    "y_train = y_train.reset_index(drop=True)\n",
    "y_test = y_test.reset_index(drop=True)\n",
    "encoded_vars_train = OHE.fit_transform(X_train[['loan_intent', 'person_home_ownership']])\n",
    "encoded_vars_test = OHE.fit_transform(X_test[['loan_intent', 'person_home_ownership']])\n"
   ]
  },
  {
   "cell_type": "code",
   "execution_count": 125,
   "metadata": {},
   "outputs": [
    {
     "data": {
      "text/html": [
       "<div>\n",
       "<style scoped>\n",
       "    .dataframe tbody tr th:only-of-type {\n",
       "        vertical-align: middle;\n",
       "    }\n",
       "\n",
       "    .dataframe tbody tr th {\n",
       "        vertical-align: top;\n",
       "    }\n",
       "\n",
       "    .dataframe thead th {\n",
       "        text-align: right;\n",
       "    }\n",
       "</style>\n",
       "<table border=\"1\" class=\"dataframe\">\n",
       "  <thead>\n",
       "    <tr style=\"text-align: right;\">\n",
       "      <th></th>\n",
       "      <th>loan_intent_DEBTCONSOLIDATION</th>\n",
       "      <th>loan_intent_EDUCATION</th>\n",
       "      <th>loan_intent_HOMEIMPROVEMENT</th>\n",
       "      <th>loan_intent_MEDICAL</th>\n",
       "      <th>loan_intent_PERSONAL</th>\n",
       "      <th>loan_intent_VENTURE</th>\n",
       "      <th>person_home_ownership_MORTGAGE</th>\n",
       "      <th>person_home_ownership_OTHER</th>\n",
       "      <th>person_home_ownership_OWN</th>\n",
       "      <th>person_home_ownership_RENT</th>\n",
       "    </tr>\n",
       "  </thead>\n",
       "  <tbody>\n",
       "    <tr>\n",
       "      <th>0</th>\n",
       "      <td>0.0</td>\n",
       "      <td>0.0</td>\n",
       "      <td>0.0</td>\n",
       "      <td>0.0</td>\n",
       "      <td>1.0</td>\n",
       "      <td>0.0</td>\n",
       "      <td>0.0</td>\n",
       "      <td>0.0</td>\n",
       "      <td>0.0</td>\n",
       "      <td>1.0</td>\n",
       "    </tr>\n",
       "    <tr>\n",
       "      <th>1</th>\n",
       "      <td>0.0</td>\n",
       "      <td>1.0</td>\n",
       "      <td>0.0</td>\n",
       "      <td>0.0</td>\n",
       "      <td>0.0</td>\n",
       "      <td>0.0</td>\n",
       "      <td>0.0</td>\n",
       "      <td>0.0</td>\n",
       "      <td>0.0</td>\n",
       "      <td>1.0</td>\n",
       "    </tr>\n",
       "    <tr>\n",
       "      <th>2</th>\n",
       "      <td>1.0</td>\n",
       "      <td>0.0</td>\n",
       "      <td>0.0</td>\n",
       "      <td>0.0</td>\n",
       "      <td>0.0</td>\n",
       "      <td>0.0</td>\n",
       "      <td>1.0</td>\n",
       "      <td>0.0</td>\n",
       "      <td>0.0</td>\n",
       "      <td>0.0</td>\n",
       "    </tr>\n",
       "    <tr>\n",
       "      <th>3</th>\n",
       "      <td>0.0</td>\n",
       "      <td>0.0</td>\n",
       "      <td>0.0</td>\n",
       "      <td>0.0</td>\n",
       "      <td>1.0</td>\n",
       "      <td>0.0</td>\n",
       "      <td>0.0</td>\n",
       "      <td>0.0</td>\n",
       "      <td>0.0</td>\n",
       "      <td>1.0</td>\n",
       "    </tr>\n",
       "    <tr>\n",
       "      <th>4</th>\n",
       "      <td>0.0</td>\n",
       "      <td>0.0</td>\n",
       "      <td>0.0</td>\n",
       "      <td>0.0</td>\n",
       "      <td>0.0</td>\n",
       "      <td>1.0</td>\n",
       "      <td>0.0</td>\n",
       "      <td>0.0</td>\n",
       "      <td>0.0</td>\n",
       "      <td>1.0</td>\n",
       "    </tr>\n",
       "  </tbody>\n",
       "</table>\n",
       "</div>"
      ],
      "text/plain": [
       "   loan_intent_DEBTCONSOLIDATION  loan_intent_EDUCATION  \\\n",
       "0                            0.0                    0.0   \n",
       "1                            0.0                    1.0   \n",
       "2                            1.0                    0.0   \n",
       "3                            0.0                    0.0   \n",
       "4                            0.0                    0.0   \n",
       "\n",
       "   loan_intent_HOMEIMPROVEMENT  loan_intent_MEDICAL  loan_intent_PERSONAL  \\\n",
       "0                          0.0                  0.0                   1.0   \n",
       "1                          0.0                  0.0                   0.0   \n",
       "2                          0.0                  0.0                   0.0   \n",
       "3                          0.0                  0.0                   1.0   \n",
       "4                          0.0                  0.0                   0.0   \n",
       "\n",
       "   loan_intent_VENTURE  person_home_ownership_MORTGAGE  \\\n",
       "0                  0.0                             0.0   \n",
       "1                  0.0                             0.0   \n",
       "2                  0.0                             1.0   \n",
       "3                  0.0                             0.0   \n",
       "4                  1.0                             0.0   \n",
       "\n",
       "   person_home_ownership_OTHER  person_home_ownership_OWN  \\\n",
       "0                          0.0                        0.0   \n",
       "1                          0.0                        0.0   \n",
       "2                          0.0                        0.0   \n",
       "3                          0.0                        0.0   \n",
       "4                          0.0                        0.0   \n",
       "\n",
       "   person_home_ownership_RENT  \n",
       "0                         1.0  \n",
       "1                         1.0  \n",
       "2                         0.0  \n",
       "3                         1.0  \n",
       "4                         1.0  "
      ]
     },
     "execution_count": 125,
     "metadata": {},
     "output_type": "execute_result"
    }
   ],
   "source": [
    "# Convert the encoded variables to a dataframe\n",
    "encoded_df_train = pd.DataFrame(encoded_vars_train, columns=OHE.get_feature_names_out(['loan_intent', 'person_home_ownership'])).reset_index(drop=True) # reset index to make sure rows line up properly\n",
    "encoded_df_test = pd.DataFrame(encoded_vars_test, columns=OHE.get_feature_names_out(['loan_intent', 'person_home_ownership'])).reset_index(drop=True)\n",
    "encoded_df_train.head()"
   ]
  },
  {
   "cell_type": "markdown",
   "metadata": {},
   "source": [
    "Now we need to insert these encoded columns back into our train and test dataframes:"
   ]
  },
  {
   "cell_type": "code",
   "execution_count": 126,
   "metadata": {},
   "outputs": [
    {
     "data": {
      "text/html": [
       "<div>\n",
       "<style scoped>\n",
       "    .dataframe tbody tr th:only-of-type {\n",
       "        vertical-align: middle;\n",
       "    }\n",
       "\n",
       "    .dataframe tbody tr th {\n",
       "        vertical-align: top;\n",
       "    }\n",
       "\n",
       "    .dataframe thead th {\n",
       "        text-align: right;\n",
       "    }\n",
       "</style>\n",
       "<table border=\"1\" class=\"dataframe\">\n",
       "  <thead>\n",
       "    <tr style=\"text-align: right;\">\n",
       "      <th></th>\n",
       "      <th>person_age</th>\n",
       "      <th>person_income</th>\n",
       "      <th>person_emp_length</th>\n",
       "      <th>loan_grade</th>\n",
       "      <th>loan_amnt</th>\n",
       "      <th>loan_int_rate</th>\n",
       "      <th>loan_percent_income</th>\n",
       "      <th>cb_person_default_on_file</th>\n",
       "      <th>cb_person_cred_hist_length</th>\n",
       "      <th>loan_intent_DEBTCONSOLIDATION</th>\n",
       "      <th>loan_intent_EDUCATION</th>\n",
       "      <th>loan_intent_HOMEIMPROVEMENT</th>\n",
       "      <th>loan_intent_MEDICAL</th>\n",
       "      <th>loan_intent_PERSONAL</th>\n",
       "      <th>loan_intent_VENTURE</th>\n",
       "      <th>person_home_ownership_MORTGAGE</th>\n",
       "      <th>person_home_ownership_OTHER</th>\n",
       "      <th>person_home_ownership_OWN</th>\n",
       "      <th>person_home_ownership_RENT</th>\n",
       "    </tr>\n",
       "  </thead>\n",
       "  <tbody>\n",
       "    <tr>\n",
       "      <th>0</th>\n",
       "      <td>22</td>\n",
       "      <td>39000</td>\n",
       "      <td>5.0</td>\n",
       "      <td>D</td>\n",
       "      <td>9600</td>\n",
       "      <td>16.77</td>\n",
       "      <td>0.25</td>\n",
       "      <td>Y</td>\n",
       "      <td>2</td>\n",
       "      <td>0.0</td>\n",
       "      <td>0.0</td>\n",
       "      <td>0.0</td>\n",
       "      <td>0.0</td>\n",
       "      <td>1.0</td>\n",
       "      <td>0.0</td>\n",
       "      <td>0.0</td>\n",
       "      <td>0.0</td>\n",
       "      <td>0.0</td>\n",
       "      <td>1.0</td>\n",
       "    </tr>\n",
       "    <tr>\n",
       "      <th>1</th>\n",
       "      <td>26</td>\n",
       "      <td>18000</td>\n",
       "      <td>0.0</td>\n",
       "      <td>B</td>\n",
       "      <td>1500</td>\n",
       "      <td>11.36</td>\n",
       "      <td>0.08</td>\n",
       "      <td>N</td>\n",
       "      <td>2</td>\n",
       "      <td>0.0</td>\n",
       "      <td>1.0</td>\n",
       "      <td>0.0</td>\n",
       "      <td>0.0</td>\n",
       "      <td>0.0</td>\n",
       "      <td>0.0</td>\n",
       "      <td>0.0</td>\n",
       "      <td>0.0</td>\n",
       "      <td>0.0</td>\n",
       "      <td>1.0</td>\n",
       "    </tr>\n",
       "    <tr>\n",
       "      <th>2</th>\n",
       "      <td>36</td>\n",
       "      <td>44000</td>\n",
       "      <td>9.0</td>\n",
       "      <td>D</td>\n",
       "      <td>9400</td>\n",
       "      <td>13.30</td>\n",
       "      <td>0.21</td>\n",
       "      <td>N</td>\n",
       "      <td>15</td>\n",
       "      <td>1.0</td>\n",
       "      <td>0.0</td>\n",
       "      <td>0.0</td>\n",
       "      <td>0.0</td>\n",
       "      <td>0.0</td>\n",
       "      <td>0.0</td>\n",
       "      <td>1.0</td>\n",
       "      <td>0.0</td>\n",
       "      <td>0.0</td>\n",
       "      <td>0.0</td>\n",
       "    </tr>\n",
       "    <tr>\n",
       "      <th>3</th>\n",
       "      <td>41</td>\n",
       "      <td>50000</td>\n",
       "      <td>0.0</td>\n",
       "      <td>C</td>\n",
       "      <td>7000</td>\n",
       "      <td>12.87</td>\n",
       "      <td>0.14</td>\n",
       "      <td>Y</td>\n",
       "      <td>12</td>\n",
       "      <td>0.0</td>\n",
       "      <td>0.0</td>\n",
       "      <td>0.0</td>\n",
       "      <td>0.0</td>\n",
       "      <td>1.0</td>\n",
       "      <td>0.0</td>\n",
       "      <td>0.0</td>\n",
       "      <td>0.0</td>\n",
       "      <td>0.0</td>\n",
       "      <td>1.0</td>\n",
       "    </tr>\n",
       "    <tr>\n",
       "      <th>4</th>\n",
       "      <td>30</td>\n",
       "      <td>40000</td>\n",
       "      <td>8.0</td>\n",
       "      <td>A</td>\n",
       "      <td>2500</td>\n",
       "      <td>5.79</td>\n",
       "      <td>0.06</td>\n",
       "      <td>N</td>\n",
       "      <td>10</td>\n",
       "      <td>0.0</td>\n",
       "      <td>0.0</td>\n",
       "      <td>0.0</td>\n",
       "      <td>0.0</td>\n",
       "      <td>0.0</td>\n",
       "      <td>1.0</td>\n",
       "      <td>0.0</td>\n",
       "      <td>0.0</td>\n",
       "      <td>0.0</td>\n",
       "      <td>1.0</td>\n",
       "    </tr>\n",
       "  </tbody>\n",
       "</table>\n",
       "</div>"
      ],
      "text/plain": [
       "   person_age  person_income  person_emp_length loan_grade  loan_amnt  \\\n",
       "0          22          39000                5.0          D       9600   \n",
       "1          26          18000                0.0          B       1500   \n",
       "2          36          44000                9.0          D       9400   \n",
       "3          41          50000                0.0          C       7000   \n",
       "4          30          40000                8.0          A       2500   \n",
       "\n",
       "   loan_int_rate  loan_percent_income cb_person_default_on_file  \\\n",
       "0          16.77                 0.25                         Y   \n",
       "1          11.36                 0.08                         N   \n",
       "2          13.30                 0.21                         N   \n",
       "3          12.87                 0.14                         Y   \n",
       "4           5.79                 0.06                         N   \n",
       "\n",
       "   cb_person_cred_hist_length  loan_intent_DEBTCONSOLIDATION  \\\n",
       "0                           2                            0.0   \n",
       "1                           2                            0.0   \n",
       "2                          15                            1.0   \n",
       "3                          12                            0.0   \n",
       "4                          10                            0.0   \n",
       "\n",
       "   loan_intent_EDUCATION  loan_intent_HOMEIMPROVEMENT  loan_intent_MEDICAL  \\\n",
       "0                    0.0                          0.0                  0.0   \n",
       "1                    1.0                          0.0                  0.0   \n",
       "2                    0.0                          0.0                  0.0   \n",
       "3                    0.0                          0.0                  0.0   \n",
       "4                    0.0                          0.0                  0.0   \n",
       "\n",
       "   loan_intent_PERSONAL  loan_intent_VENTURE  person_home_ownership_MORTGAGE  \\\n",
       "0                   1.0                  0.0                             0.0   \n",
       "1                   0.0                  0.0                             0.0   \n",
       "2                   0.0                  0.0                             1.0   \n",
       "3                   1.0                  0.0                             0.0   \n",
       "4                   0.0                  1.0                             0.0   \n",
       "\n",
       "   person_home_ownership_OTHER  person_home_ownership_OWN  \\\n",
       "0                          0.0                        0.0   \n",
       "1                          0.0                        0.0   \n",
       "2                          0.0                        0.0   \n",
       "3                          0.0                        0.0   \n",
       "4                          0.0                        0.0   \n",
       "\n",
       "   person_home_ownership_RENT  \n",
       "0                         1.0  \n",
       "1                         1.0  \n",
       "2                         0.0  \n",
       "3                         1.0  \n",
       "4                         1.0  "
      ]
     },
     "execution_count": 126,
     "metadata": {},
     "output_type": "execute_result"
    }
   ],
   "source": [
    "X_train = X_train.drop(columns=['loan_intent', 'person_home_ownership'])\n",
    "X_test = X_test.drop(columns=['loan_intent', 'person_home_ownership'])\n",
    "\n",
    "# Concatenate the new encoded columns with the rest of the dataset\n",
    "X_train = pd.concat([X_train, encoded_df_train], axis=1)\n",
    "X_test = pd.concat([X_test, encoded_df_test], axis=1)\n",
    "X_train.head()"
   ]
  },
  {
   "cell_type": "markdown",
   "metadata": {},
   "source": [
    "### Binary Encoding of Default History\n",
    "\n",
    "Time to binary encode the default on file:"
   ]
  },
  {
   "cell_type": "code",
   "execution_count": 127,
   "metadata": {},
   "outputs": [],
   "source": [
    "X_train['cb_person_default_on_file'] = X_train['cb_person_default_on_file'].map({'Y':1, 'N':0}) # Can also use 'replace()' in the place of map() and keep everything else the exact same and would work the same way\n",
    "X_test['cb_person_default_on_file'] = X_test['cb_person_default_on_file'].map({'Y':1, 'N':0})"
   ]
  },
  {
   "cell_type": "markdown",
   "metadata": {},
   "source": [
    "## Scaling Numerical Features\n",
    "\n",
    "Now we need to standardize our numerical features. We'll create a separate dataframe containing just our numerical features, then we'll standardize both the training and test sets using the descriptive statistics of the training set"
   ]
  },
  {
   "cell_type": "code",
   "execution_count": 128,
   "metadata": {},
   "outputs": [],
   "source": [
    "# Extract numeric features\n",
    "scaling_data_train = X_train[['person_age', 'person_income', 'person_emp_length', 'loan_amnt', 'loan_int_rate', 'loan_percent_income', 'cb_person_cred_hist_length']]\n",
    "scaling_data_test = X_test[['person_age', 'person_income', 'person_emp_length', 'loan_amnt', 'loan_int_rate', 'loan_percent_income', 'cb_person_cred_hist_length']]"
   ]
  },
  {
   "cell_type": "code",
   "execution_count": 129,
   "metadata": {},
   "outputs": [
    {
     "data": {
      "text/html": [
       "<div>\n",
       "<style scoped>\n",
       "    .dataframe tbody tr th:only-of-type {\n",
       "        vertical-align: middle;\n",
       "    }\n",
       "\n",
       "    .dataframe tbody tr th {\n",
       "        vertical-align: top;\n",
       "    }\n",
       "\n",
       "    .dataframe thead th {\n",
       "        text-align: right;\n",
       "    }\n",
       "</style>\n",
       "<table border=\"1\" class=\"dataframe\">\n",
       "  <thead>\n",
       "    <tr style=\"text-align: right;\">\n",
       "      <th></th>\n",
       "      <th>person_age</th>\n",
       "      <th>person_income</th>\n",
       "      <th>person_emp_length</th>\n",
       "      <th>loan_amnt</th>\n",
       "      <th>loan_int_rate</th>\n",
       "      <th>loan_percent_income</th>\n",
       "      <th>cb_person_cred_hist_length</th>\n",
       "    </tr>\n",
       "  </thead>\n",
       "  <tbody>\n",
       "    <tr>\n",
       "      <th>count</th>\n",
       "      <td>2.533600e+04</td>\n",
       "      <td>2.533600e+04</td>\n",
       "      <td>2.533600e+04</td>\n",
       "      <td>2.533600e+04</td>\n",
       "      <td>2.533600e+04</td>\n",
       "      <td>2.533600e+04</td>\n",
       "      <td>2.533600e+04</td>\n",
       "    </tr>\n",
       "    <tr>\n",
       "      <th>mean</th>\n",
       "      <td>-1.828520e-16</td>\n",
       "      <td>-4.963927e-17</td>\n",
       "      <td>4.823703e-17</td>\n",
       "      <td>7.936675e-17</td>\n",
       "      <td>2.559087e-16</td>\n",
       "      <td>1.646229e-16</td>\n",
       "      <td>6.338122e-17</td>\n",
       "    </tr>\n",
       "    <tr>\n",
       "      <th>std</th>\n",
       "      <td>1.000020e+00</td>\n",
       "      <td>1.000020e+00</td>\n",
       "      <td>1.000020e+00</td>\n",
       "      <td>1.000020e+00</td>\n",
       "      <td>1.000020e+00</td>\n",
       "      <td>1.000020e+00</td>\n",
       "      <td>1.000020e+00</td>\n",
       "    </tr>\n",
       "    <tr>\n",
       "      <th>min</th>\n",
       "      <td>-1.245996e+00</td>\n",
       "      <td>-1.187335e+00</td>\n",
       "      <td>-1.188664e+00</td>\n",
       "      <td>-1.445811e+00</td>\n",
       "      <td>-1.835523e+00</td>\n",
       "      <td>-1.597538e+00</td>\n",
       "      <td>-9.353393e-01</td>\n",
       "    </tr>\n",
       "    <tr>\n",
       "      <th>25%</th>\n",
       "      <td>-7.611391e-01</td>\n",
       "      <td>-5.183238e-01</td>\n",
       "      <td>-6.912698e-01</td>\n",
       "      <td>-7.378254e-01</td>\n",
       "      <td>-8.340638e-01</td>\n",
       "      <td>-7.512088e-01</td>\n",
       "      <td>-6.890751e-01</td>\n",
       "    </tr>\n",
       "    <tr>\n",
       "      <th>50%</th>\n",
       "      <td>-2.762820e-01</td>\n",
       "      <td>-2.000195e-01</td>\n",
       "      <td>-1.938751e-01</td>\n",
       "      <td>-2.658350e-01</td>\n",
       "      <td>0.000000e+00</td>\n",
       "      <td>-1.869894e-01</td>\n",
       "      <td>-4.428109e-01</td>\n",
       "    </tr>\n",
       "    <tr>\n",
       "      <th>75%</th>\n",
       "      <td>3.701941e-01</td>\n",
       "      <td>2.574238e-01</td>\n",
       "      <td>5.522168e-01</td>\n",
       "      <td>4.421505e-01</td>\n",
       "      <td>6.730177e-01</td>\n",
       "      <td>5.653032e-01</td>\n",
       "      <td>5.422458e-01</td>\n",
       "    </tr>\n",
       "    <tr>\n",
       "      <th>max</th>\n",
       "      <td>6.834955e+00</td>\n",
       "      <td>3.761118e+01</td>\n",
       "      <td>8.261834e+00</td>\n",
       "      <td>3.982078e+00</td>\n",
       "      <td>3.970982e+00</td>\n",
       "      <td>6.207498e+00</td>\n",
       "      <td>5.960058e+00</td>\n",
       "    </tr>\n",
       "  </tbody>\n",
       "</table>\n",
       "</div>"
      ],
      "text/plain": [
       "         person_age  person_income  person_emp_length     loan_amnt  \\\n",
       "count  2.533600e+04   2.533600e+04       2.533600e+04  2.533600e+04   \n",
       "mean  -1.828520e-16  -4.963927e-17       4.823703e-17  7.936675e-17   \n",
       "std    1.000020e+00   1.000020e+00       1.000020e+00  1.000020e+00   \n",
       "min   -1.245996e+00  -1.187335e+00      -1.188664e+00 -1.445811e+00   \n",
       "25%   -7.611391e-01  -5.183238e-01      -6.912698e-01 -7.378254e-01   \n",
       "50%   -2.762820e-01  -2.000195e-01      -1.938751e-01 -2.658350e-01   \n",
       "75%    3.701941e-01   2.574238e-01       5.522168e-01  4.421505e-01   \n",
       "max    6.834955e+00   3.761118e+01       8.261834e+00  3.982078e+00   \n",
       "\n",
       "       loan_int_rate  loan_percent_income  cb_person_cred_hist_length  \n",
       "count   2.533600e+04         2.533600e+04                2.533600e+04  \n",
       "mean    2.559087e-16         1.646229e-16                6.338122e-17  \n",
       "std     1.000020e+00         1.000020e+00                1.000020e+00  \n",
       "min    -1.835523e+00        -1.597538e+00               -9.353393e-01  \n",
       "25%    -8.340638e-01        -7.512088e-01               -6.890751e-01  \n",
       "50%     0.000000e+00        -1.869894e-01               -4.428109e-01  \n",
       "75%     6.730177e-01         5.653032e-01                5.422458e-01  \n",
       "max     3.970982e+00         6.207498e+00                5.960058e+00  "
      ]
     },
     "execution_count": 129,
     "metadata": {},
     "output_type": "execute_result"
    }
   ],
   "source": [
    "# Set up the scaler\n",
    "scaler = StandardScaler()\n",
    "train_scaled = pd.DataFrame(scaler.fit_transform(scaling_data_train), columns=scaling_data_train.columns)\n",
    "test_scaled = pd.DataFrame(scaler.transform(scaling_data_test), columns=scaling_data_test.columns)\n",
    "train_scaled.describe() # Means are all zero, standard deviations are all 1 (or, at least, approximately 0 and 1)"
   ]
  },
  {
   "cell_type": "code",
   "execution_count": 130,
   "metadata": {},
   "outputs": [],
   "source": [
    "# Now we have our numerically scaled data, we need to update the dataframe with encoded values so that we have a dataframe with encoded and scaled data:\n",
    "# Make a copy of the dataframe to update, with a new name that will be relevant:\n",
    "X_train_prepped = X_train.copy()\n",
    "X_test_prepped = X_test.copy()\n",
    "\n",
    "# it doesn't like that we're putting float data into integer columns, so we'll have to convert the integer columns to float first\n",
    "X_train_prepped.select_dtypes(include='int').columns\n",
    "X_test_prepped.select_dtypes(include='int').columns\n",
    "\n",
    "# Convert age, income, loan amount, and credit history length to float\n",
    "int_to_float = ['person_age', 'person_income', 'loan_amnt', 'cb_person_cred_hist_length']\n",
    "X_train_prepped[int_to_float] = X_train_prepped[int_to_float].astype(float)\n",
    "X_test_prepped[int_to_float] = X_test_prepped[int_to_float].astype(float)\n",
    "\n",
    "\n"
   ]
  },
  {
   "cell_type": "markdown",
   "metadata": {},
   "source": [
    "Now we can update our values by joining the scaled features into the non-scaled numeric columns of the X data. `Update()` will find columns with matching names and replace the values"
   ]
  },
  {
   "cell_type": "code",
   "execution_count": 131,
   "metadata": {},
   "outputs": [],
   "source": [
    "X_train_prepped.update(train_scaled)\n",
    "X_test_prepped.update(test_scaled)"
   ]
  },
  {
   "cell_type": "markdown",
   "metadata": {},
   "source": [
    "Okay great, the last thing we need to do is to process our loan grade. We are going to target-encode, meaning that we'll calculate the proportion of each loan grade that defaulted and then map that as a float value for each loan grade. We have to be careful to only use the training set to compute the averages, and then apply those averages to both the train and test set to prevent data leakage"
   ]
  },
  {
   "cell_type": "code",
   "execution_count": 132,
   "metadata": {},
   "outputs": [
    {
     "name": "stdout",
     "output_type": "stream",
     "text": [
      "loan_grade\n",
      "A    0.094216\n",
      "B    0.159956\n",
      "C    0.199449\n",
      "D    0.597956\n",
      "E    0.636364\n",
      "F    0.693069\n",
      "G    0.980392\n",
      "Name: loan_status, dtype: float64\n"
     ]
    }
   ],
   "source": [
    "# Compute mean default rates from training set\n",
    "# First need to join the target variable back to the training set for a hot sec. Then can compute the mean default rates for each loan grade\n",
    "loan_grade_means = X_train.join(y_train).groupby('loan_grade', observed=False)['loan_status'].mean()\n",
    "print(loan_grade_means)\n"
   ]
  },
  {
   "cell_type": "code",
   "execution_count": 133,
   "metadata": {},
   "outputs": [
    {
     "data": {
      "text/html": [
       "<div>\n",
       "<style scoped>\n",
       "    .dataframe tbody tr th:only-of-type {\n",
       "        vertical-align: middle;\n",
       "    }\n",
       "\n",
       "    .dataframe tbody tr th {\n",
       "        vertical-align: top;\n",
       "    }\n",
       "\n",
       "    .dataframe thead th {\n",
       "        text-align: right;\n",
       "    }\n",
       "</style>\n",
       "<table border=\"1\" class=\"dataframe\">\n",
       "  <thead>\n",
       "    <tr style=\"text-align: right;\">\n",
       "      <th></th>\n",
       "      <th>person_age</th>\n",
       "      <th>person_income</th>\n",
       "      <th>person_emp_length</th>\n",
       "      <th>loan_amnt</th>\n",
       "      <th>loan_int_rate</th>\n",
       "      <th>loan_percent_income</th>\n",
       "      <th>cb_person_default_on_file</th>\n",
       "      <th>cb_person_cred_hist_length</th>\n",
       "      <th>loan_intent_DEBTCONSOLIDATION</th>\n",
       "      <th>loan_intent_EDUCATION</th>\n",
       "      <th>loan_intent_HOMEIMPROVEMENT</th>\n",
       "      <th>loan_intent_MEDICAL</th>\n",
       "      <th>loan_intent_PERSONAL</th>\n",
       "      <th>loan_intent_VENTURE</th>\n",
       "      <th>person_home_ownership_MORTGAGE</th>\n",
       "      <th>person_home_ownership_OTHER</th>\n",
       "      <th>person_home_ownership_OWN</th>\n",
       "      <th>person_home_ownership_RENT</th>\n",
       "      <th>loan_grade_encoded</th>\n",
       "    </tr>\n",
       "  </thead>\n",
       "  <tbody>\n",
       "    <tr>\n",
       "      <th>0</th>\n",
       "      <td>-0.922758</td>\n",
       "      <td>-0.524042</td>\n",
       "      <td>0.054822</td>\n",
       "      <td>-0.014107</td>\n",
       "      <td>1.866939</td>\n",
       "      <td>0.753376</td>\n",
       "      <td>1</td>\n",
       "      <td>-0.935339</td>\n",
       "      <td>0.0</td>\n",
       "      <td>0.0</td>\n",
       "      <td>0.0</td>\n",
       "      <td>0.0</td>\n",
       "      <td>1.0</td>\n",
       "      <td>0.0</td>\n",
       "      <td>0.0</td>\n",
       "      <td>0.0</td>\n",
       "      <td>0.0</td>\n",
       "      <td>1.0</td>\n",
       "      <td>0.597956</td>\n",
       "    </tr>\n",
       "    <tr>\n",
       "      <th>1</th>\n",
       "      <td>-0.276282</td>\n",
       "      <td>-0.924305</td>\n",
       "      <td>-1.188664</td>\n",
       "      <td>-1.288481</td>\n",
       "      <td>0.102153</td>\n",
       "      <td>-0.845245</td>\n",
       "      <td>0</td>\n",
       "      <td>-0.935339</td>\n",
       "      <td>0.0</td>\n",
       "      <td>1.0</td>\n",
       "      <td>0.0</td>\n",
       "      <td>0.0</td>\n",
       "      <td>0.0</td>\n",
       "      <td>0.0</td>\n",
       "      <td>0.0</td>\n",
       "      <td>0.0</td>\n",
       "      <td>0.0</td>\n",
       "      <td>1.0</td>\n",
       "      <td>0.159956</td>\n",
       "    </tr>\n",
       "    <tr>\n",
       "      <th>2</th>\n",
       "      <td>1.339908</td>\n",
       "      <td>-0.428741</td>\n",
       "      <td>1.049611</td>\n",
       "      <td>-0.045573</td>\n",
       "      <td>0.734997</td>\n",
       "      <td>0.377230</td>\n",
       "      <td>0</td>\n",
       "      <td>2.266095</td>\n",
       "      <td>1.0</td>\n",
       "      <td>0.0</td>\n",
       "      <td>0.0</td>\n",
       "      <td>0.0</td>\n",
       "      <td>0.0</td>\n",
       "      <td>0.0</td>\n",
       "      <td>1.0</td>\n",
       "      <td>0.0</td>\n",
       "      <td>0.0</td>\n",
       "      <td>0.0</td>\n",
       "      <td>0.597956</td>\n",
       "    </tr>\n",
       "    <tr>\n",
       "      <th>3</th>\n",
       "      <td>2.148003</td>\n",
       "      <td>-0.314380</td>\n",
       "      <td>-1.188664</td>\n",
       "      <td>-0.423165</td>\n",
       "      <td>0.594728</td>\n",
       "      <td>-0.281026</td>\n",
       "      <td>1</td>\n",
       "      <td>1.527303</td>\n",
       "      <td>0.0</td>\n",
       "      <td>0.0</td>\n",
       "      <td>0.0</td>\n",
       "      <td>0.0</td>\n",
       "      <td>1.0</td>\n",
       "      <td>0.0</td>\n",
       "      <td>0.0</td>\n",
       "      <td>0.0</td>\n",
       "      <td>0.0</td>\n",
       "      <td>1.0</td>\n",
       "      <td>0.199449</td>\n",
       "    </tr>\n",
       "    <tr>\n",
       "      <th>4</th>\n",
       "      <td>0.370194</td>\n",
       "      <td>-0.504982</td>\n",
       "      <td>0.800914</td>\n",
       "      <td>-1.131151</td>\n",
       "      <td>-1.714826</td>\n",
       "      <td>-1.033319</td>\n",
       "      <td>0</td>\n",
       "      <td>1.034774</td>\n",
       "      <td>0.0</td>\n",
       "      <td>0.0</td>\n",
       "      <td>0.0</td>\n",
       "      <td>0.0</td>\n",
       "      <td>0.0</td>\n",
       "      <td>1.0</td>\n",
       "      <td>0.0</td>\n",
       "      <td>0.0</td>\n",
       "      <td>0.0</td>\n",
       "      <td>1.0</td>\n",
       "      <td>0.094216</td>\n",
       "    </tr>\n",
       "  </tbody>\n",
       "</table>\n",
       "</div>"
      ],
      "text/plain": [
       "   person_age  person_income  person_emp_length  loan_amnt  loan_int_rate  \\\n",
       "0   -0.922758      -0.524042           0.054822  -0.014107       1.866939   \n",
       "1   -0.276282      -0.924305          -1.188664  -1.288481       0.102153   \n",
       "2    1.339908      -0.428741           1.049611  -0.045573       0.734997   \n",
       "3    2.148003      -0.314380          -1.188664  -0.423165       0.594728   \n",
       "4    0.370194      -0.504982           0.800914  -1.131151      -1.714826   \n",
       "\n",
       "   loan_percent_income  cb_person_default_on_file  cb_person_cred_hist_length  \\\n",
       "0             0.753376                          1                   -0.935339   \n",
       "1            -0.845245                          0                   -0.935339   \n",
       "2             0.377230                          0                    2.266095   \n",
       "3            -0.281026                          1                    1.527303   \n",
       "4            -1.033319                          0                    1.034774   \n",
       "\n",
       "   loan_intent_DEBTCONSOLIDATION  loan_intent_EDUCATION  \\\n",
       "0                            0.0                    0.0   \n",
       "1                            0.0                    1.0   \n",
       "2                            1.0                    0.0   \n",
       "3                            0.0                    0.0   \n",
       "4                            0.0                    0.0   \n",
       "\n",
       "   loan_intent_HOMEIMPROVEMENT  loan_intent_MEDICAL  loan_intent_PERSONAL  \\\n",
       "0                          0.0                  0.0                   1.0   \n",
       "1                          0.0                  0.0                   0.0   \n",
       "2                          0.0                  0.0                   0.0   \n",
       "3                          0.0                  0.0                   1.0   \n",
       "4                          0.0                  0.0                   0.0   \n",
       "\n",
       "   loan_intent_VENTURE  person_home_ownership_MORTGAGE  \\\n",
       "0                  0.0                             0.0   \n",
       "1                  0.0                             0.0   \n",
       "2                  0.0                             1.0   \n",
       "3                  0.0                             0.0   \n",
       "4                  1.0                             0.0   \n",
       "\n",
       "   person_home_ownership_OTHER  person_home_ownership_OWN  \\\n",
       "0                          0.0                        0.0   \n",
       "1                          0.0                        0.0   \n",
       "2                          0.0                        0.0   \n",
       "3                          0.0                        0.0   \n",
       "4                          0.0                        0.0   \n",
       "\n",
       "   person_home_ownership_RENT  loan_grade_encoded  \n",
       "0                         1.0            0.597956  \n",
       "1                         1.0            0.159956  \n",
       "2                         0.0            0.597956  \n",
       "3                         1.0            0.199449  \n",
       "4                         1.0            0.094216  "
      ]
     },
     "execution_count": 133,
     "metadata": {},
     "output_type": "execute_result"
    }
   ],
   "source": [
    "# Map the mean default rates to the loan grade column\n",
    "X_train_prepped['loan_grade_encoded'] = X_train_prepped['loan_grade'].map(loan_grade_means).astype(float)\n",
    "X_train_prepped.drop(columns=['loan_grade'], inplace=True)\n",
    "\n",
    "# repeat for test\n",
    "X_test_prepped['loan_grade_encoded'] = X_test_prepped['loan_grade'].map(loan_grade_means).astype(float)\n",
    "X_test_prepped.drop(columns=['loan_grade'], inplace=True)\n",
    "\n",
    "X_train_prepped.head()"
   ]
  },
  {
   "cell_type": "markdown",
   "metadata": {},
   "source": [
    "Okay that all looks good! Modeling time."
   ]
  },
  {
   "cell_type": "markdown",
   "metadata": {},
   "source": [
    "# Model Fitting"
   ]
  },
  {
   "cell_type": "code",
   "execution_count": 134,
   "metadata": {},
   "outputs": [],
   "source": [
    "from sklearn.linear_model import LogisticRegression\n",
    "from sklearn.ensemble import RandomForestClassifier\n",
    "from xgboost import XGBClassifier\n",
    "from sklearn.metrics import accuracy_score, confusion_matrix, classification_report\n",
    "from sklearn.model_selection import cross_val_score\n"
   ]
  },
  {
   "cell_type": "markdown",
   "metadata": {},
   "source": [
    "### Model Evaluation function\n",
    "\n",
    "Let's write a quick function to standardize how we evaluate each model"
   ]
  },
  {
   "cell_type": "code",
   "execution_count": 135,
   "metadata": {},
   "outputs": [],
   "source": [
    "def evaluate_model(y_true, y_pred, model_name):\n",
    "    print(f\"\\n{model_name} Evaluation:\")\n",
    "    print(\"Accuracy:\", accuracy_score(y_true, y_pred))\n",
    "    print(\"Confusion Matrix:\")\n",
    "    print(confusion_matrix(y_true, y_pred))\n",
    "    print(\"Classification Report:\")\n",
    "    print(classification_report(y_true, y_pred))"
   ]
  },
  {
   "cell_type": "markdown",
   "metadata": {},
   "source": [
    "## Logistic Regression\n",
    "\n",
    "Time to fit our first model, we'll start with logistic regression:"
   ]
  },
  {
   "cell_type": "code",
   "execution_count": 136,
   "metadata": {},
   "outputs": [],
   "source": [
    "# Initializing and fitting the model, and making predictions:\n",
    "logreg = LogisticRegression(max_iter=1000, random_state=12345)\n",
    "logreg.fit(X_train_prepped, y_train)\n",
    "y_pred_logreg = logreg.predict(X_test_prepped)"
   ]
  },
  {
   "cell_type": "markdown",
   "metadata": {},
   "source": [
    "Now let's evaluate the model:"
   ]
  },
  {
   "cell_type": "code",
   "execution_count": 137,
   "metadata": {},
   "outputs": [
    {
     "name": "stdout",
     "output_type": "stream",
     "text": [
      "\n",
      "Logistic Regression Evaluation:\n",
      "Accuracy: 0.8653512233622731\n",
      "Confusion Matrix:\n",
      "[[4717  253]\n",
      " [ 600  765]]\n",
      "Classification Report:\n",
      "              precision    recall  f1-score   support\n",
      "\n",
      "           0       0.89      0.95      0.92      4970\n",
      "           1       0.75      0.56      0.64      1365\n",
      "\n",
      "    accuracy                           0.87      6335\n",
      "   macro avg       0.82      0.75      0.78      6335\n",
      "weighted avg       0.86      0.87      0.86      6335\n",
      "\n"
     ]
    }
   ],
   "source": [
    "evaluate_model(y_test, y_pred_logreg, \"Logistic Regression\")"
   ]
  },
  {
   "cell_type": "markdown",
   "metadata": {},
   "source": [
    "Not bad, let's see how the other models do. Also, this is a super barebones fit so we can tweak things from here to improve our accuracy\n"
   ]
  },
  {
   "cell_type": "markdown",
   "metadata": {},
   "source": [
    "## Random Forest\n",
    "\n",
    "Next we'll fit a Random Forest model:"
   ]
  },
  {
   "cell_type": "code",
   "execution_count": 138,
   "metadata": {},
   "outputs": [],
   "source": [
    "# Initialize the model, fit the model, make predictions\n",
    "rf = RandomForestClassifier(n_estimators=100, random_state=12345)\n",
    "rf.fit(X_train_prepped, y_train)\n",
    "y_pred_rf = rf.predict(X_test_prepped)\n"
   ]
  },
  {
   "cell_type": "markdown",
   "metadata": {},
   "source": [
    "Evaluation time:"
   ]
  },
  {
   "cell_type": "code",
   "execution_count": 139,
   "metadata": {},
   "outputs": [
    {
     "name": "stdout",
     "output_type": "stream",
     "text": [
      "\n",
      "Random Forest Evaluation:\n",
      "Accuracy: 0.9330702446724546\n",
      "Confusion Matrix:\n",
      "[[4941   29]\n",
      " [ 395  970]]\n",
      "Classification Report:\n",
      "              precision    recall  f1-score   support\n",
      "\n",
      "           0       0.93      0.99      0.96      4970\n",
      "           1       0.97      0.71      0.82      1365\n",
      "\n",
      "    accuracy                           0.93      6335\n",
      "   macro avg       0.95      0.85      0.89      6335\n",
      "weighted avg       0.94      0.93      0.93      6335\n",
      "\n"
     ]
    }
   ],
   "source": [
    "evaluate_model(y_test, y_pred_rf, \"Random Forest\")"
   ]
  },
  {
   "cell_type": "markdown",
   "metadata": {},
   "source": [
    "So far Random Forest beats Logistic Regression. Let's see if we can beat this with XGBoost. Sometimes boosting methods can overfit which can hurt your prediction accuracy, will be interesting to see whether that happens here."
   ]
  },
  {
   "cell_type": "markdown",
   "metadata": {},
   "source": [
    "## XGBoost\n",
    "\n",
    "Our last model fit will be XGBoost, a Gradient Boosting method."
   ]
  },
  {
   "cell_type": "code",
   "execution_count": 140,
   "metadata": {},
   "outputs": [],
   "source": [
    "# Initialize and fit the model, then make predictions\n",
    "xgb_model = XGBClassifier(random_state=12345)\n",
    "xgb_model.fit(X_train_prepped, y_train)\n",
    "y_pred_xgb = xgb_model.predict(X_test_prepped)"
   ]
  },
  {
   "cell_type": "markdown",
   "metadata": {},
   "source": [
    "That took less time to fit than the random forest which is interesting. Let's evaluate it:"
   ]
  },
  {
   "cell_type": "code",
   "execution_count": 141,
   "metadata": {},
   "outputs": [
    {
     "name": "stdout",
     "output_type": "stream",
     "text": [
      "\n",
      "XGBoost Evaluation:\n",
      "Accuracy: 0.9338595106550908\n",
      "Confusion Matrix:\n",
      "[[4918   52]\n",
      " [ 367  998]]\n",
      "Classification Report:\n",
      "              precision    recall  f1-score   support\n",
      "\n",
      "           0       0.93      0.99      0.96      4970\n",
      "           1       0.95      0.73      0.83      1365\n",
      "\n",
      "    accuracy                           0.93      6335\n",
      "   macro avg       0.94      0.86      0.89      6335\n",
      "weighted avg       0.93      0.93      0.93      6335\n",
      "\n"
     ]
    }
   ],
   "source": [
    "evaluate_model(y_test, y_pred_xgb, \"XGBoost\")"
   ]
  },
  {
   "cell_type": "markdown",
   "metadata": {},
   "source": [
    "So the XGBoost did ever so slightly better than the Random Forest. "
   ]
  },
  {
   "cell_type": "markdown",
   "metadata": {},
   "source": [
    "## Feature Importance\n",
    "\n",
    "It would be interesting to visualize the feature importance for each model and compare what they honed in on:"
   ]
  },
  {
   "cell_type": "code",
   "execution_count": 142,
   "metadata": {},
   "outputs": [],
   "source": [
    "# Logistic Regression\n",
    "logreg_importance = np.abs(logreg.coef_[0])\n",
    "\n",
    "# Random Forest\n",
    "rf_importance = rf.feature_importances_\n",
    "\n",
    "# XGBoost\n",
    "xgb_importance = xgb_model.feature_importances_\n",
    "\n",
    "# Create dataframe from these:\n",
    "importance_df = pd.DataFrame({\n",
    "    'Feature': X_train_prepped.columns,\n",
    "    'Logistic Regression': logreg_importance,\n",
    "    'Random Forest': rf_importance,\n",
    "    'XGBoost': xgb_importance\n",
    "})\n",
    "\n",
    "# Sort by importance (mean of all models):\n",
    "importance_df = importance_df.set_index('Feature')\n",
    "importance_df = importance_df.sort_values(by=['Logistic Regression', 'Random Forest', 'XGBoost'], ascending=False)"
   ]
  },
  {
   "cell_type": "code",
   "execution_count": 143,
   "metadata": {},
   "outputs": [
    {
     "data": {
      "image/png": "[encoded data removed]",
      "text/plain": [
       "<Figure size 1200x800 with 1 Axes>"
      ]
     },
     "metadata": {},
     "output_type": "display_data"
    }
   ],
   "source": [
    "# Plotting with Seaborn\n",
    "plt.figure(figsize=(12,8))\n",
    "\n",
    "# Melt dataframe for easier plotting\n",
    "importance_melt = importance_df.reset_index().melt(id_vars='Feature', var_name='Model', value_name='Importance')\n",
    "\n",
    "# Create barplot\n",
    "sns.barplot(x='Importance', y='Feature', hue='Model', data=importance_melt, dodge=True)\n",
    "\n",
    "# Customize the plot\n",
    "plt.title('Feature Importance Comparison Across Models')\n",
    "plt.xlabel('Importance')\n",
    "plt.ylabel('Feature')\n",
    "\n",
    "# Show the plot\n",
    "plt.tight_layout()\n",
    "plt.show()"
   ]
  },
  {
   "cell_type": "markdown",
   "metadata": {},
   "source": [
    "One thing we notice right off the bat is that the feature importance values for logistic regression are *much* higher than the two tree-based methods. This is because feature importance for regression-based models just maps onto the coefficient estimates given to each feature, whereas feature importance in tree-based models is calculated in a completely different way. If we wanted to have a more objective comparison across all three models, we would want to standardize the importances within each model type\n",
    "\n",
    "Let's see what that would look like:"
   ]
  },
  {
   "cell_type": "code",
   "execution_count": 144,
   "metadata": {},
   "outputs": [
    {
     "data": {
      "image/png": "[encoded data removed]",
      "text/plain": [
       "<Figure size 640x480 with 1 Axes>"
      ]
     },
     "metadata": {},
     "output_type": "display_data"
    }
   ],
   "source": [
    "# scale each model's importance values independently, then melt to long format\n",
    "scaler = StandardScaler()\n",
    "nums = importance_df.columns[1:]\n",
    "importance_scaled = importance_df.copy()\n",
    "importance_scaled[nums] = scaler.fit_transform(importance_df[nums])\n",
    "imp_scaled_melt = importance_scaled.reset_index().melt(id_vars='Feature', var_name='Model', value_name='Importance')\n",
    "\n",
    "# Create same barplot as before but with new scaled dataframe\n",
    "sns.barplot(x='Importance', y='Feature', hue='Model', data=imp_scaled_melt, dodge=True)\n",
    "plt.title('Feature Importance Comparison Across Models')\n",
    "plt.xlabel('Scaled Importance')\n",
    "plt.ylabel('Feature')\n",
    "plt.tight_layout()\n",
    "plt.show()"
   ]
  },
  {
   "cell_type": "markdown",
   "metadata": {},
   "source": [
    "This plot is much more legible now that the importances are scaled. We still see that the target-encoded loan grade is very influential, especially in the case of Logistic Regression. This is likely attributable to some of the underlying relationships we visualized early on in this notebook, namely that worse loan grades have very high default rates, and worse loan grades have higher interest rates, and that higher interest rates are associated with a higher probability of default according to our simple logistic regression curve we plotted. \n",
    "\n",
    "The logistic regression model is more fixated on single variables 'at a time', in the sense that I didn't tell it to look for interactions, whereas the tree based methods are 'spreading' their importance across the potential interactions between variables as well. So if we were to plot the distribution of each model's importances, or plot the variances between feature importances, we would find that the variance is much higher for logistic regression while the tree based methods have much more uniform sets of importances. "
   ]
  },
  {
   "cell_type": "code",
   "execution_count": 145,
   "metadata": {},
   "outputs": [
    {
     "data": {
      "image/png": "[encoded data removed]",
      "text/plain": [
       "<Figure size 1200x400 with 3 Axes>"
      ]
     },
     "metadata": {},
     "output_type": "display_data"
    }
   ],
   "source": [
    "p = sns.FacetGrid(imp_scaled_melt, col=\"Model\", col_wrap=3, sharex=True, sharey=True, height=4)\n",
    "p.map(sns.histplot, \"Importance\", kde=True, bins=20, color='steelblue', edgecolor='black')\n",
    "p.set_axis_labels(\"Scaled Importance\", \"Count\")\n",
    "p.set_titles(col_template=\"{col_name} Model\")\n",
    "plt.suptitle(\"Distribution of Feature Importances Across Predictive Models\")\n",
    "plt.subplots_adjust(top=0.85)\n"
   ]
  },
  {
   "cell_type": "markdown",
   "metadata": {},
   "source": [
    "# Summary\n",
    "\n",
    "In this notebook we explored a dataset on credit defaults, and implemented a few different machine learning techniques to predict loan defaults. Our most accurate model was XGBoost with an accuracy of roughly 94%, placing highest importance on whether an individual was renting their home or apartment. The second-most accurate model was Random Forest with a roughly 93% accuracy, placing highest importance on the percent of the borrower's income the loan represented. Our third-place model was Logistic Regression at roughly 86%, placing highest importance on what grade the loan was assigned when it was offered."
   ]
  }
 ],
 "metadata": {
  "kernelspec": {
   "display_name": "Python 3",
   "language": "python",
   "name": "python3"
  },
  "language_info": {
   "codemirror_mode": {
    "name": "ipython",
    "version": 3
   },
   "file_extension": ".py",
   "mimetype": "text/x-python",
   "name": "python",
   "nbconvert_exporter": "python",
   "pygments_lexer": "ipython3",
   "version": "3.11.3"
  }
 },
 "nbformat": 4,
 "nbformat_minor": 2
}
